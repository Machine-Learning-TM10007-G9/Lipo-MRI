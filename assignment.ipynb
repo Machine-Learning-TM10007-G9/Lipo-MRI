{
  "cells": [
    {
      "cell_type": "markdown",
      "metadata": {
        "id": "7SXpaKwwGe5x"
      },
      "source": [
        "# TM10007 Assignment lipomas G9"
      ]
    },
    {
      "cell_type": "code",
      "execution_count": null,
      "metadata": {
        "colab": {
          "base_uri": "https://localhost:8080/"
        },
        "id": "CiDn2Sk-VWqE",
        "outputId": "c42bd4e1-cf77-4b90-886e-6a4b7d314702"
      },
      "outputs": [
        {
          "output_type": "stream",
          "name": "stdout",
          "text": [
            "  Preparing metadata (setup.py) ... \u001b[?25l\u001b[?25hdone\n",
            "\u001b[2K     \u001b[90m━━━━━━━━━━━━━━━━━━━━━━━━━━━━━━━━━━━━━━━━\u001b[0m \u001b[32m23.7/23.7 MB\u001b[0m \u001b[31m28.8 MB/s\u001b[0m eta \u001b[36m0:00:00\u001b[0m\n",
            "\u001b[2K     \u001b[90m━━━━━━━━━━━━━━━━━━━━━━━━━━━━━━━━━━━━━━━━\u001b[0m \u001b[32m823.6/823.6 kB\u001b[0m \u001b[31m37.9 MB/s\u001b[0m eta \u001b[36m0:00:00\u001b[0m\n",
            "\u001b[2K     \u001b[90m━━━━━━━━━━━━━━━━━━━━━━━━━━━━━━━━━━━━━━━━\u001b[0m \u001b[32m14.1/14.1 MB\u001b[0m \u001b[31m25.3 MB/s\u001b[0m eta \u001b[36m0:00:00\u001b[0m\n",
            "\u001b[2K     \u001b[90m━━━━━━━━━━━━━━━━━━━━━━━━━━━━━━━━━━━━━━━━\u001b[0m \u001b[32m731.7/731.7 MB\u001b[0m \u001b[31m1.0 MB/s\u001b[0m eta \u001b[36m0:00:00\u001b[0m\n",
            "\u001b[2K     \u001b[90m━━━━━━━━━━━━━━━━━━━━━━━━━━━━━━━━━━━━━━━━\u001b[0m \u001b[32m410.6/410.6 MB\u001b[0m \u001b[31m1.2 MB/s\u001b[0m eta \u001b[36m0:00:00\u001b[0m\n",
            "\u001b[2K     \u001b[90m━━━━━━━━━━━━━━━━━━━━━━━━━━━━━━━━━━━━━━━━\u001b[0m \u001b[32m121.6/121.6 MB\u001b[0m \u001b[31m8.5 MB/s\u001b[0m eta \u001b[36m0:00:00\u001b[0m\n",
            "\u001b[2K     \u001b[90m━━━━━━━━━━━━━━━━━━━━━━━━━━━━━━━━━━━━━━━━\u001b[0m \u001b[32m56.5/56.5 MB\u001b[0m \u001b[31m10.9 MB/s\u001b[0m eta \u001b[36m0:00:00\u001b[0m\n",
            "\u001b[2K     \u001b[90m━━━━━━━━━━━━━━━━━━━━━━━━━━━━━━━━━━━━━━━━\u001b[0m \u001b[32m124.2/124.2 MB\u001b[0m \u001b[31m7.1 MB/s\u001b[0m eta \u001b[36m0:00:00\u001b[0m\n",
            "\u001b[2K     \u001b[90m━━━━━━━━━━━━━━━━━━━━━━━━━━━━━━━━━━━━━━━━\u001b[0m \u001b[32m196.0/196.0 MB\u001b[0m \u001b[31m2.7 MB/s\u001b[0m eta \u001b[36m0:00:00\u001b[0m\n",
            "\u001b[2K     \u001b[90m━━━━━━━━━━━━━━━━━━━━━━━━━━━━━━━━━━━━━━━━\u001b[0m \u001b[32m166.0/166.0 MB\u001b[0m \u001b[31m7.5 MB/s\u001b[0m eta \u001b[36m0:00:00\u001b[0m\n",
            "\u001b[2K     \u001b[90m━━━━━━━━━━━━━━━━━━━━━━━━━━━━━━━━━━━━━━━━\u001b[0m \u001b[32m99.1/99.1 kB\u001b[0m \u001b[31m10.7 MB/s\u001b[0m eta \u001b[36m0:00:00\u001b[0m\n",
            "\u001b[2K     \u001b[90m━━━━━━━━━━━━━━━━━━━━━━━━━━━━━━━━━━━━━━━━\u001b[0m \u001b[32m21.1/21.1 MB\u001b[0m \u001b[31m69.5 MB/s\u001b[0m eta \u001b[36m0:00:00\u001b[0m\n",
            "\u001b[?25h  Building wheel for ktml (setup.py) ... \u001b[?25l\u001b[?25hdone\n"
          ]
        }
      ],
      "source": [
        "# Run this to use from colab environment\n",
        "!pip install -q --upgrade git+https://github.com/Machine-Learning-TM10007-G9/Lipo-MRI.git"
      ]
    },
    {
      "cell_type": "markdown",
      "source": [],
      "metadata": {
        "id": "z75tolmAqj3z"
      }
    },
    {
      "cell_type": "markdown",
      "metadata": {
        "id": "zuSR7zcbNW0h"
      },
      "source": [
        "# **Data loading**\n",
        "\n"
      ]
    },
    {
      "cell_type": "code",
      "execution_count": null,
      "metadata": {
        "colab": {
          "base_uri": "https://localhost:8080/"
        },
        "id": "-NE_fTbKGe5z",
        "outputId": "80604a14-7a8c-4a1b-a274-65c74d586acf"
      },
      "outputs": [
        {
          "output_type": "stream",
          "name": "stdout",
          "text": [
            "The number of samples: 115\n",
            "The number of columns: 494\n"
          ]
        }
      ],
      "source": [
        "from worclipo.load_data import load_data\n",
        "\n",
        "data = load_data()\n",
        "print(f'The number of samples: {len(data.index)}')\n",
        "print(f'The number of columns: {len(data.columns)}')"
      ]
    },
    {
      "cell_type": "markdown",
      "source": [
        "# **Import important functions**"
      ],
      "metadata": {
        "id": "g8ivKj_yynDm"
      }
    },
    {
      "cell_type": "code",
      "execution_count": null,
      "metadata": {
        "id": "mSI_faQPNW0i"
      },
      "outputs": [],
      "source": [
        "# General packages\n",
        "import numpy as np\n",
        "import pandas as pd\n",
        "import matplotlib.pyplot as plt\n",
        "from sklearn import datasets as ds\n",
        "import seaborn\n",
        "\n",
        "\n",
        "# Classifiers\n",
        "from sklearn import model_selection\n",
        "from sklearn import metrics\n",
        "from sklearn import feature_selection\n",
        "from sklearn import preprocessing\n",
        "from sklearn import neighbors\n",
        "from sklearn import svm\n",
        "from sklearn import decomposition\n",
        "from scipy import stats\n",
        "from sklearn.feature_selection import SelectFromModel\n",
        "from sklearn.ensemble import RandomForestClassifier\n",
        "from sklearn.metrics import accuracy_score\n",
        "from sklearn.neural_network import MLPClassifier\n",
        "from sklearn.linear_model import LogisticRegression\n",
        "from sklearn.model_selection import LeaveOneOut"
      ]
    },
    {
      "cell_type": "markdown",
      "source": [
        "# **Create X and Y**"
      ],
      "metadata": {
        "id": "eFLxHJ2Az70n"
      }
    },
    {
      "cell_type": "code",
      "source": [
        "X = data.iloc[:, 1:].values\n",
        "y = np.array(data['label'])"
      ],
      "metadata": {
        "id": "DtPbcpXFz7au"
      },
      "execution_count": null,
      "outputs": []
    },
    {
      "cell_type": "markdown",
      "source": [
        "# **Split the data**"
      ],
      "metadata": {
        "id": "JIfugNhPzDo5"
      }
    },
    {
      "cell_type": "code",
      "source": [
        "# Split data\n",
        "X_train, X_test, y_train, y_test = model_selection.train_test_split(X, y, test_size=0.2, stratify=y, shuffle=True, random_state=0)\n",
        "\n",
        "#print(len(X_train))\n",
        "#print(len(X_test))\n",
        "#print(len(y_train))\n",
        "#print(len(y_test))"
      ],
      "metadata": {
        "id": "TmcPnIBdzCG_"
      },
      "execution_count": null,
      "outputs": []
    },
    {
      "cell_type": "markdown",
      "source": [
        "# **Check for missing values**\n",
        "\n"
      ],
      "metadata": {
        "id": "6Th7iN-wiDCz"
      }
    },
    {
      "cell_type": "code",
      "source": [
        "missing_values = np.sum(np.isnan(X_train))\n",
        "\n",
        "print(\"Number of missing values:\",missing_values)"
      ],
      "metadata": {
        "id": "xz_YEZ4niOB0",
        "outputId": "3cb31611-64e3-4554-b20d-2af386b6d352",
        "colab": {
          "base_uri": "https://localhost:8080/"
        }
      },
      "execution_count": null,
      "outputs": [
        {
          "output_type": "stream",
          "name": "stdout",
          "text": [
            "Number of missing values: 0\n"
          ]
        }
      ]
    },
    {
      "cell_type": "markdown",
      "source": [
        "# **Checks if all the data points are floats**"
      ],
      "metadata": {
        "id": "eccXHmAeb1OX"
      }
    },
    {
      "cell_type": "code",
      "source": [
        "non_floats = 0\n",
        "for row in X_train:\n",
        "  for col in row:\n",
        "    if not isinstance(col, float):\n",
        "        non_floats += 1\n",
        "\n",
        "if non_floats == 0:\n",
        "  print(\"All values in the dataset are floats\")\n",
        "else:\n",
        "  print(f\"{non_floats} values in dataset are not floats\")"
      ],
      "metadata": {
        "id": "4aVtVkv1dljh",
        "outputId": "a623096d-2d3b-48fc-dad2-4348dad811ae",
        "colab": {
          "base_uri": "https://localhost:8080/"
        }
      },
      "execution_count": null,
      "outputs": [
        {
          "output_type": "stream",
          "name": "stdout",
          "text": [
            "All values in the dataset are floats\n"
          ]
        }
      ]
    },
    {
      "cell_type": "markdown",
      "source": [
        "# **Check for duplicates**"
      ],
      "metadata": {
        "id": "OGrob7DIZl6c"
      }
    },
    {
      "cell_type": "code",
      "source": [
        "# Function to find duplicate columns and delete them\n",
        "def delete_duplicate_columns(arr):\n",
        "    num_cols = arr.shape[1]\n",
        "    duplicate_columns = []\n",
        "    for i in range(num_cols):\n",
        "        for j in range(i + 1, num_cols):\n",
        "            if np.array_equal(arr[:, i], arr[:, j]):\n",
        "                duplicate_columns.append(j)  # Append index of the duplicate column\n",
        "    if duplicate_columns:\n",
        "        # Delete duplicate columns\n",
        "        arr_without_duplicates = np.delete(arr, duplicate_columns, axis=1)\n",
        "        return arr_without_duplicates\n",
        "    else:\n",
        "        return arr\n",
        "\n",
        "# Remove duplicate columns\n",
        "X_train_clean = delete_duplicate_columns(X_train)\n",
        "\n",
        "print(\"Number of columns in original array:\",X_train.shape[1])\n",
        "print(\"Number of columns after removal of duplicate columns:\",X_train_clean.shape[1])"
      ],
      "metadata": {
        "colab": {
          "base_uri": "https://localhost:8080/"
        },
        "id": "nyEMNXijZ37p",
        "outputId": "9435e654-3f66-4c4e-dac2-4b28d5ef51b9"
      },
      "execution_count": null,
      "outputs": [
        {
          "output_type": "stream",
          "name": "stdout",
          "text": [
            "Number of columns in original array: 493\n",
            "Number of columns after removal of duplicate columns: 465\n"
          ]
        }
      ]
    },
    {
      "cell_type": "markdown",
      "source": [
        "# **Checking for outliers**\n",
        "Using the Z-score"
      ],
      "metadata": {
        "id": "6c9Rj_XInE6p"
      }
    },
    {
      "cell_type": "code",
      "source": [
        "num_rows, num_cols = X_train_clean.shape\n",
        "total_outliers = 0\n",
        "\n",
        "for i in range(num_cols):\n",
        "    z = np.abs(stats.zscore(X_train_clean[:,i]))\n",
        "\n",
        "    threshold = 3\n",
        "    outliers = X_train_clean[z > threshold, i]\n",
        "    total_outliers +=(len(outliers))\n",
        "\n",
        "print(f'Total number of outliers  = {total_outliers}/{num_rows*num_cols}')\n",
        "print(f'Avarage number of outliers per feature = {round(total_outliers/num_cols,2)}/{num_rows}')\n"
      ],
      "metadata": {
        "id": "mPIPeNp-nJTv",
        "outputId": "aeff7953-1e38-4031-91d6-4e669f95f48f",
        "colab": {
          "base_uri": "https://localhost:8080/"
        }
      },
      "execution_count": null,
      "outputs": [
        {
          "output_type": "stream",
          "name": "stdout",
          "text": [
            "Total number of outliers  = 661/42780\n",
            "Avarage number of outliers per feature = 1.42/92\n"
          ]
        }
      ]
    },
    {
      "cell_type": "markdown",
      "source": [
        "# **Check if the data is normally distributed**\n",
        "Using the Kolmogorov Smirnov"
      ],
      "metadata": {
        "id": "u3RmZ5isz4Iw"
      }
    },
    {
      "cell_type": "code",
      "source": [
        "total_not_normal = 0\n",
        "p_threshold = 0.05\n",
        "\n",
        "for l in range(num_cols):\n",
        "    kstest_result = stats.kstest(X_train_clean[:,l], 'norm')\n",
        "    if kstest_result.pvalue < p_threshold:\n",
        "        total_not_normal += 1\n",
        "\n",
        "print(f'Total features that are not normally distributed = {total_not_normal}/{num_cols}')\n"
      ],
      "metadata": {
        "id": "PB_LKu7Bz3Ul",
        "outputId": "c60b998a-f216-4bdc-eac0-74d464dcd5e2",
        "colab": {
          "base_uri": "https://localhost:8080/"
        }
      },
      "execution_count": null,
      "outputs": [
        {
          "output_type": "stream",
          "name": "stdout",
          "text": [
            "Total features that are not normally distributed = 464/465\n"
          ]
        }
      ]
    },
    {
      "cell_type": "markdown",
      "source": [
        "# **Scaling**\n",
        "Robust scaling because outliers and non Gaussian distribution"
      ],
      "metadata": {
        "id": "Ammb7jQ7RCPb"
      }
    },
    {
      "cell_type": "code",
      "source": [
        "# Scale the data to be normal\n",
        "scaler = preprocessing.RobustScaler()\n",
        "scaler.fit(X_train_clean)\n",
        "X_train_scaled = scaler.transform(X_train_clean)"
      ],
      "metadata": {
        "id": "SjdjlpnSRGGd"
      },
      "execution_count": null,
      "outputs": []
    },
    {
      "cell_type": "markdown",
      "source": [
        "# **Feature selection**\n",
        "Using L1 because it can better handle high dimensionality, it migigates overfitting and is easy to interpret"
      ],
      "metadata": {
        "id": "qNAjbYOLjx53"
      }
    },
    {
      "cell_type": "code",
      "source": [
        "print(\"Original data shape:\",X_train_scaled.shape)\n",
        "clf = LogisticRegression(max_iter=1000, solver='liblinear')\n",
        "lsvc = LogisticRegression(C=1.9, penalty=\"l1\", dual=False, solver='liblinear').fit(X_train_scaled, y_train)\n",
        "model = SelectFromModel(lsvc, prefit=True)\n",
        "X_feature = model.transform(X_train_scaled)\n",
        "print(\"New data shape:\",X_feature.shape)"
      ],
      "metadata": {
        "colab": {
          "base_uri": "https://localhost:8080/"
        },
        "id": "MqBnoaZ1SJHK",
        "outputId": "324d37ba-5060-4729-9196-90a0a9cf0874"
      },
      "execution_count": null,
      "outputs": [
        {
          "output_type": "stream",
          "name": "stdout",
          "text": [
            "Original data shape: (92, 465)\n",
            "New data shape: (92, 53)\n"
          ]
        }
      ]
    },
    {
      "cell_type": "markdown",
      "source": [
        "# **PCA**"
      ],
      "metadata": {
        "id": "dm3msQI8WZ45"
      }
    },
    {
      "cell_type": "code",
      "source": [
        "# Voer PCA uit\n",
        "pca = decomposition.PCA(n_components=10)  #n_components is the amount of features that remain after PCA (can also be a ratio)\n",
        "X_pca = pca.fit_transform(X_feature)\n",
        "\n",
        "# Verklaarde variantie ratio's\n",
        "explained_variance_ratio = pca.explained_variance_ratio_\n",
        "\n",
        "# Cumulatieve verklaarde variantie\n",
        "cumulative_explained_variance = np.cumsum(explained_variance_ratio)\n",
        "\n",
        "# Maak een DataFrame om de resultaten mooi weer te geven\n",
        "df = pd.DataFrame({\n",
        "    'Principal Component': [f'PC{i+1}' for i in range(len(explained_variance_ratio))],\n",
        "    'Explained Variance Ratio': explained_variance_ratio,\n",
        "    'Cumulative Explained Variance': cumulative_explained_variance\n",
        "})\n",
        "\n",
        "print(df)"
      ],
      "metadata": {
        "colab": {
          "base_uri": "https://localhost:8080/"
        },
        "id": "2qm-dD7rWg_g",
        "outputId": "9c1df4a0-f228-4283-c82f-e999c2959af0"
      },
      "execution_count": null,
      "outputs": [
        {
          "output_type": "stream",
          "name": "stdout",
          "text": [
            "  Principal Component  Explained Variance Ratio  Cumulative Explained Variance\n",
            "0                 PC1                  0.959157                       0.959157\n",
            "1                 PC2                  0.026176                       0.985333\n",
            "2                 PC3                  0.007162                       0.992495\n",
            "3                 PC4                  0.004295                       0.996790\n",
            "4                 PC5                  0.002573                       0.999364\n",
            "5                 PC6                  0.000305                       0.999668\n",
            "6                 PC7                  0.000203                       0.999871\n",
            "7                 PC8                  0.000058                       0.999929\n",
            "8                 PC9                  0.000041                       0.999970\n",
            "9                PC10                  0.000018                       0.999988\n"
          ]
        }
      ]
    },
    {
      "cell_type": "markdown",
      "source": [
        "# **Random forest**"
      ],
      "metadata": {
        "id": "ansRTksVbive"
      }
    },
    {
      "cell_type": "code",
      "source": [
        "# Initialize KFold cross-validator\n",
        "loo = LeaveOneOut()\n",
        "\n",
        "scores_rfc = []\n",
        "# Iterate over each fold\n",
        "for train_index, val_index in loo.split(X_feature, y_train):\n",
        "    # Split data into train and validation sets for this fold\n",
        "    X_train_fold, X_val_fold = X_feature[train_index], X_feature[val_index]\n",
        "    y_train_fold, y_val_fold = y_train[train_index], y_train[val_index]\n",
        "    rfc = RandomForestClassifier(n_estimators=100, random_state=42)\n",
        "    rfc.fit(X_train_fold,y_train_fold)\n",
        "    pred_rfc = rfc.predict(X_val_fold)\n",
        "    accuracy_rfc = accuracy_score(y_val_fold, pred_rfc)\n",
        "\n",
        "    # Append accuracy to scores list\n",
        "    scores_rfc.append(accuracy_rfc)\n",
        "\n",
        "# Print the accuracy scores for each fold\n",
        "print(\"Accuracy scores for each fold:\", scores_rfc)\n",
        "\n",
        "# Calculate and print the average accuracy across all folds\n",
        "average_accuracy_rfc = sum(scores_rfc) / len(scores_rfc)\n",
        "print(\"Average Accuracy:\", average_accuracy_rfc)"
      ],
      "metadata": {
        "colab": {
          "base_uri": "https://localhost:8080/"
        },
        "id": "aKeuhOtKbiFC",
        "outputId": "1b51bdf2-1b3a-4533-caf9-f8978b840917"
      },
      "execution_count": null,
      "outputs": [
        {
          "output_type": "stream",
          "name": "stdout",
          "text": [
            "Accuracy scores for each fold: [1.0, 1.0, 1.0, 1.0, 1.0, 1.0, 1.0, 1.0, 1.0, 1.0, 1.0, 1.0, 1.0, 0.0, 1.0, 1.0, 1.0, 1.0, 1.0, 1.0, 1.0, 1.0, 1.0, 1.0, 1.0, 0.0, 1.0, 1.0, 1.0, 1.0, 1.0, 0.0, 1.0, 1.0, 1.0, 0.0, 1.0, 0.0, 1.0, 1.0, 0.0, 1.0, 1.0, 1.0, 1.0, 0.0, 1.0, 1.0, 1.0, 1.0, 1.0, 1.0, 0.0, 0.0, 0.0, 1.0, 0.0, 1.0, 1.0, 1.0, 0.0, 1.0, 0.0, 0.0, 1.0, 1.0, 0.0, 1.0, 1.0, 1.0, 1.0, 1.0, 0.0, 0.0, 0.0, 0.0, 1.0, 1.0, 0.0, 1.0, 1.0, 1.0, 1.0, 1.0, 1.0, 1.0, 0.0, 1.0, 1.0, 1.0, 1.0, 1.0]\n",
            "Average Accuracy: 0.7717391304347826\n"
          ]
        }
      ]
    },
    {
      "cell_type": "code",
      "source": [
        "from sklearn.model_selection import GridSearchCV\n",
        "\n",
        "loo = LeaveOneOut()\n",
        "\n",
        "# Define the parameter grid for grid search\n",
        "param_grid = {'n_estimators': range(50, 200, 10)}  # Adjust the range as needed\n",
        "\n",
        "# Initialize Random Forest classifier\n",
        "rfc = RandomForestClassifier(random_state=42)\n",
        "\n",
        "# Initialize GridSearchCV\n",
        "grid_search = GridSearchCV(estimator=rfc, param_grid=param_grid, cv=loo, scoring='accuracy')\n",
        "\n",
        "# Fit the GridSearchCV to the data\n",
        "grid_search.fit(X_feature, y_train)\n",
        "\n",
        "# Get the best estimator from grid search\n",
        "best_rfc = grid_search.best_estimator_\n",
        "\n",
        "# Get the best parameters from grid search\n",
        "best_params = grid_search.best_params_\n",
        "\n",
        "# Get the best score from grid search\n",
        "best_score = grid_search.best_score_\n",
        "\n",
        "print(\"Best Parameters:\", best_params)\n",
        "print(\"Best Score:\", best_score)"
      ],
      "metadata": {
        "id": "eoPxSwDWyRBT",
        "outputId": "6ec49ac7-20f8-4c6f-d188-32a0a2a41eda",
        "colab": {
          "base_uri": "https://localhost:8080/"
        }
      },
      "execution_count": null,
      "outputs": [
        {
          "output_type": "stream",
          "name": "stdout",
          "text": [
            "Best Parameters: {'n_estimators': 120}\n",
            "Best Score: 0.782608695652174\n"
          ]
        }
      ]
    },
    {
      "cell_type": "markdown",
      "source": [
        "# **SVM**"
      ],
      "metadata": {
        "id": "M57SpGqZeDhm"
      }
    },
    {
      "cell_type": "code",
      "source": [
        "# Initialize KFold cross-validator\n",
        "loo = LeaveOneOut()\n",
        "\n",
        "scores_clf = []\n",
        "# Iterate over each fold\n",
        "for train_index, val_index in loo.split(X_feature, y_train):\n",
        "    # Split data into train and validation sets for this fold\n",
        "    X_train_fold, X_val_fold = X_feature[train_index], X_feature[val_index]\n",
        "    y_train_fold, y_val_fold = y_train[train_index], y_train[val_index]\n",
        "    clf = svm.SVC()\n",
        "    clf.fit(X_train_fold,y_train_fold)\n",
        "    pred_clf = clf.predict(X_val_fold)\n",
        "    accuracy_clf = accuracy_score(y_val_fold, pred_clf)\n",
        "\n",
        "    # Append accuracy to scores list\n",
        "    scores_clf.append(accuracy_clf)\n",
        "\n",
        "# Print the accuracy scores for each fold\n",
        "print(\"Accuracy scores for each fold:\", scores_clf)\n",
        "\n",
        "# Calculate and print the average accuracy across all folds\n",
        "average_accuracy_clf = sum(scores_clf) / len(scores_clf)\n",
        "print(\"Average Accuracy:\", average_accuracy_clf)"
      ],
      "metadata": {
        "colab": {
          "base_uri": "https://localhost:8080/"
        },
        "id": "rygV2hV-eJ37",
        "outputId": "53c8dfa4-a433-43de-eafd-c26981013a3e"
      },
      "execution_count": null,
      "outputs": [
        {
          "output_type": "stream",
          "name": "stdout",
          "text": [
            "Accuracy scores for each fold: [1.0, 0.0, 1.0, 1.0, 0.0, 0.0, 1.0, 1.0, 1.0, 0.0, 0.0, 0.0, 0.0, 0.0, 0.0, 0.0, 1.0, 1.0, 1.0, 0.0, 1.0, 1.0, 0.0, 0.0, 1.0, 0.0, 0.0, 1.0, 0.0, 1.0, 0.0, 1.0, 0.0, 1.0, 1.0, 0.0, 1.0, 1.0, 1.0, 1.0, 1.0, 0.0, 0.0, 1.0, 0.0, 1.0, 1.0, 1.0, 0.0, 1.0, 0.0, 1.0, 0.0, 0.0, 0.0, 0.0, 1.0, 1.0, 0.0, 1.0, 1.0, 0.0, 1.0, 1.0, 0.0, 1.0, 1.0, 0.0, 1.0, 1.0, 0.0, 1.0, 1.0, 0.0, 0.0, 0.0, 1.0, 0.0, 1.0, 1.0, 1.0, 1.0, 0.0, 1.0, 0.0, 1.0, 0.0, 1.0, 0.0, 1.0, 0.0, 1.0]\n",
            "Average Accuracy: 0.5434782608695652\n"
          ]
        }
      ]
    },
    {
      "cell_type": "code",
      "source": [
        "# Define the parameter grid for grid search\n",
        "param_grid = {\n",
        "    'C': [0.1, 1, 10],                      # Regularization parameter\n",
        "    'kernel': ['linear', 'poly', 'rbf', 'sigmoid'],    # Kernel type\n",
        "    'gamma': [0.1, 1, 10],                  # Kernel coefficient (for 'poly' and 'rbf')\n",
        "    'degree': [2, 3, 4],                    # Degree of the polynomial kernel\n",
        "    'coef0': [0.0, 0.1, 1.0]                # Independent term in kernel function (for 'poly' and 'sigmoid')\n",
        "}\n",
        "\n",
        "# Initialize SVM classifier\n",
        "svc = svm.SVC()\n",
        "\n",
        "# Initialize GridSearchCV\n",
        "grid_search = GridSearchCV(estimator=svc, param_grid=param_grid, cv=loo, scoring='accuracy')\n",
        "\n",
        "# Fit the GridSearchCV to the data\n",
        "grid_search.fit(X_feature, y_train)\n",
        "\n",
        "# Get the best estimator from grid search\n",
        "best_svc = grid_search.best_estimator_\n",
        "\n",
        "# Get the best parameters from grid search\n",
        "best_params = grid_search.best_params_\n",
        "\n",
        "# Get the best score from grid search\n",
        "best_score = grid_search.best_score_\n",
        "\n",
        "print(\"Best Parameters:\", best_params)\n",
        "print(\"Best Score:\", best_score)"
      ],
      "metadata": {
        "id": "SUec95H5227d"
      },
      "execution_count": null,
      "outputs": []
    },
    {
      "cell_type": "markdown",
      "source": [
        "# **Neural network**"
      ],
      "metadata": {
        "id": "SGCWQPk4fS1K"
      }
    },
    {
      "cell_type": "code",
      "source": [
        "# Initialize KFold cross-validator\n",
        "loo = LeaveOneOut()\n",
        "\n",
        "scores_mlpc = []\n",
        "# Iterate over each fold\n",
        "for train_index, val_index in loo.split(X_feature, y_train):\n",
        "    # Split data into train and validation sets for this fold\n",
        "    X_train_fold, X_val_fold = X_feature[train_index], X_feature[val_index]\n",
        "    y_train_fold, y_val_fold = y_train[train_index], y_train[val_index]\n",
        "    mlpc = MLPClassifier(hidden_layer_sizes=(50,50),max_iter=500, random_state=42)\n",
        "    mlpc.fit(X_train_fold, y_train_fold)\n",
        "    pred_mlpc = mlpc.predict(X_val_fold)\n",
        "    accuracy_mlpc = accuracy_score(y_val_fold, pred_mlpc)\n",
        "\n",
        "    # Append accuracy to scores list\n",
        "    scores_mlpc.append(accuracy_mlpc)\n",
        "\n",
        "# Print the accuracy scores for each fold\n",
        "print(\"Accuracy scores for each fold:\", scores_mlpc)\n",
        "\n",
        "# Calculate and print the average accuracy across all folds\n",
        "average_accuracy_mlpc = sum(scores_mlpc) / len(scores_mlpc)\n",
        "print(\"Average Accuracy:\", average_accuracy_mlpc)"
      ],
      "metadata": {
        "colab": {
          "base_uri": "https://localhost:8080/"
        },
        "id": "O4dputYVfSc9",
        "outputId": "539df7eb-385f-4fc6-e641-8ed62684d487"
      },
      "execution_count": null,
      "outputs": [
        {
          "output_type": "stream",
          "name": "stdout",
          "text": [
            "Accuracy scores for each fold: [1.0, 1.0, 1.0, 1.0, 0.0, 0.0, 1.0, 1.0, 1.0, 1.0, 0.0, 1.0, 1.0, 1.0, 1.0, 1.0, 1.0, 0.0, 1.0, 1.0, 1.0, 1.0, 1.0, 1.0, 1.0, 0.0, 0.0, 0.0, 0.0, 1.0, 0.0, 1.0, 1.0, 1.0, 0.0, 0.0, 1.0, 1.0, 1.0, 0.0, 0.0, 0.0, 1.0, 1.0, 1.0, 0.0, 1.0, 1.0, 1.0, 0.0, 1.0, 1.0, 0.0, 0.0, 1.0, 0.0, 1.0, 1.0, 1.0, 1.0, 1.0, 0.0, 1.0, 0.0, 1.0, 1.0, 0.0, 1.0, 1.0, 1.0, 0.0, 1.0, 1.0, 0.0, 0.0, 0.0, 1.0, 0.0, 1.0, 0.0, 1.0, 1.0, 1.0, 1.0, 1.0, 1.0, 0.0, 1.0, 0.0, 0.0, 1.0, 1.0]\n",
            "Average Accuracy: 0.6630434782608695\n"
          ]
        }
      ]
    },
    {
      "cell_type": "code",
      "source": [
        "# Define the parameter grid for grid search\n",
        "param_grid = {\n",
        "    'hidden_layer_sizes': [(50,), (100,), (50, 50)],  # Number of neurons in each hidden layer\n",
        "    'activation': ['relu', 'tanh', 'logistic'],        # Activation function\n",
        "    'solver': ['adam', 'sgd', 'lbfgs'],                # Optimization algorithm\n",
        "    'alpha': [0.0001, 0.001, 0.01],                    # L2 regularization parameter\n",
        "    'learning_rate': ['constant', 'adaptive'],         # Learning rate schedule\n",
        "    'max_iter': [200, 300, 400],                       # Maximum number of iterations\n",
        "}\n",
        "\n",
        "# Initialize MLPClassifier\n",
        "mlp = MLPClassifier()\n",
        "\n",
        "# Initialize GridSearchCV\n",
        "grid_search = GridSearchCV(estimator=mlp, param_grid=param_grid, cv=loo, scoring='accuracy')\n",
        "\n",
        "# Fit the GridSearchCV to the data\n",
        "grid_search.fit(X_feature, y_train)\n",
        "\n",
        "# Get the best estimator from grid search\n",
        "best_mlp = grid_search.best_estimator_\n",
        "\n",
        "# Get the best parameters from grid search\n",
        "best_params = grid_search.best_params_\n",
        "\n",
        "# Get the best score from grid search\n",
        "best_score = grid_search.best_score_\n",
        "\n",
        "print(\"Best Parameters:\", best_params)\n",
        "print(\"Best Score:\", best_score)"
      ],
      "metadata": {
        "id": "KaUKd5x1pSz1"
      },
      "execution_count": null,
      "outputs": []
    }
  ],
  "metadata": {
    "colab": {
      "name": "assignment.ipynb",
      "provenance": []
    },
    "kernelspec": {
      "display_name": "Python 3",
      "language": "python",
      "name": "python3"
    },
    "language_info": {
      "codemirror_mode": {
        "name": "ipython",
        "version": 3
      },
      "file_extension": ".py",
      "mimetype": "text/x-python",
      "name": "python",
      "nbconvert_exporter": "python",
      "pygments_lexer": "ipython3",
      "version": "3.8.5"
    }
  },
  "nbformat": 4,
  "nbformat_minor": 0
}
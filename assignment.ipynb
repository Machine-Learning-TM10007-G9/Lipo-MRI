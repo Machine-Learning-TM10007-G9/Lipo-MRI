{
  "cells": [
    {
      "cell_type": "markdown",
      "metadata": {
        "id": "7SXpaKwwGe5x"
      },
      "source": [
        "# TM10007 Assignment lipomas G9"
      ]
    },
    {
      "cell_type": "code",
      "execution_count": 1,
      "metadata": {
        "colab": {
          "base_uri": "https://localhost:8080/"
        },
        "id": "CiDn2Sk-VWqE",
        "outputId": "cd24e517-596b-4f5a-ca83-49812c56b2cf"
      },
      "outputs": [
        {
          "output_type": "stream",
          "name": "stdout",
          "text": [
            "  Preparing metadata (setup.py) ... \u001b[?25l\u001b[?25hdone\n",
            "  Building wheel for ktml (setup.py) ... \u001b[?25l\u001b[?25hdone\n"
          ]
        }
      ],
      "source": [
        "# Run this to use from colab environment\n",
        "!pip install -q --upgrade git+https://github.com/Machine-Learning-TM10007-G9/Lipo-MRI.git"
      ]
    },
    {
      "cell_type": "markdown",
      "source": [],
      "metadata": {
        "id": "z75tolmAqj3z"
      }
    },
    {
      "cell_type": "markdown",
      "metadata": {
        "id": "zuSR7zcbNW0h"
      },
      "source": [
        "# **Data loading**\n",
        "\n"
      ]
    },
    {
      "cell_type": "code",
      "execution_count": 2,
      "metadata": {
        "colab": {
          "base_uri": "https://localhost:8080/"
        },
        "id": "-NE_fTbKGe5z",
        "outputId": "ecb7c862-5e1f-4561-decc-16d3bd8ccf7c"
      },
      "outputs": [
        {
          "output_type": "stream",
          "name": "stdout",
          "text": [
            "The number of samples: 115\n",
            "The number of columns: 494\n"
          ]
        }
      ],
      "source": [
        "from worclipo.load_data import load_data\n",
        "\n",
        "data = load_data()\n",
        "print(f'The number of samples: {len(data.index)}')\n",
        "print(f'The number of columns: {len(data.columns)}')"
      ]
    },
    {
      "cell_type": "markdown",
      "source": [
        "# **Import important functions**"
      ],
      "metadata": {
        "id": "g8ivKj_yynDm"
      }
    },
    {
      "cell_type": "code",
      "execution_count": 3,
      "metadata": {
        "id": "mSI_faQPNW0i"
      },
      "outputs": [],
      "source": [
        "# General packages\n",
        "import numpy as np\n",
        "import pandas as pd\n",
        "import matplotlib.pyplot as plt\n",
        "from sklearn import datasets as ds\n",
        "import seaborn\n",
        "\n",
        "\n",
        "# Classifiers\n",
        "from sklearn import model_selection\n",
        "from sklearn import metrics\n",
        "from sklearn import feature_selection\n",
        "from sklearn import preprocessing\n",
        "from sklearn import neighbors\n",
        "from sklearn import svm\n",
        "from sklearn import decomposition\n",
        "from scipy import stats\n",
        "from sklearn.feature_selection import SelectFromModel\n",
        "from sklearn.ensemble import RandomForestClassifier\n",
        "from sklearn.metrics import accuracy_score\n",
        "from sklearn.neural_network import MLPClassifier\n",
        "from sklearn.linear_model import LogisticRegression\n",
        "from sklearn.model_selection import LeaveOneOut\n",
        "from sklearn.model_selection import GridSearchCV\n",
        "from collections import Counter"
      ]
    },
    {
      "cell_type": "markdown",
      "source": [
        "# **Create X and Y**"
      ],
      "metadata": {
        "id": "eFLxHJ2Az70n"
      }
    },
    {
      "cell_type": "code",
      "source": [
        "X = data.iloc[:, 1:].values\n",
        "y = np.array(data['label'])\n",
        "\n",
        "# Assuming y is a list of strings representing class labels\n",
        "class_counts = Counter(y)\n",
        "\n",
        "# Display class counts\n",
        "for class_label, count in class_counts.items():\n",
        "    print(f\"Class '{class_label}': {count} samples\")"
      ],
      "metadata": {
        "id": "DtPbcpXFz7au"
      },
      "execution_count": 4,
      "outputs": []
    },
    {
      "cell_type": "markdown",
      "source": [
        "# **Split the data**"
      ],
      "metadata": {
        "id": "JIfugNhPzDo5"
      }
    },
    {
      "cell_type": "code",
      "source": [
        "# Split data\n",
        "X_train, X_test, y_train, y_test = model_selection.train_test_split(X, y, test_size=0.2, stratify=y, shuffle=True, random_state=0)\n",
        "\n",
        "#print(len(X_train))\n",
        "#print(len(X_test))\n",
        "#print(len(y_train))\n",
        "#print(len(y_test))"
      ],
      "metadata": {
        "id": "TmcPnIBdzCG_"
      },
      "execution_count": 5,
      "outputs": []
    },
    {
      "cell_type": "markdown",
      "source": [
        "# **Check for missing values**\n",
        "\n"
      ],
      "metadata": {
        "id": "6Th7iN-wiDCz"
      }
    },
    {
      "cell_type": "code",
      "source": [
        "missing_values = np.sum(np.isnan(X_train))\n",
        "\n",
        "print(\"Number of missing values:\",missing_values)"
      ],
      "metadata": {
        "id": "xz_YEZ4niOB0",
        "outputId": "498e772f-32d4-4f0f-ffee-b8c6d56de980",
        "colab": {
          "base_uri": "https://localhost:8080/"
        }
      },
      "execution_count": 6,
      "outputs": [
        {
          "output_type": "stream",
          "name": "stdout",
          "text": [
            "Number of missing values: 0\n"
          ]
        }
      ]
    },
    {
      "cell_type": "markdown",
      "source": [
        "# **Checks if all the data points are floats**"
      ],
      "metadata": {
        "id": "eccXHmAeb1OX"
      }
    },
    {
      "cell_type": "code",
      "source": [
        "non_floats = 0\n",
        "for row in X_train:\n",
        "  for col in row:\n",
        "    if not isinstance(col, float):\n",
        "        non_floats += 1\n",
        "\n",
        "if non_floats == 0:\n",
        "  print(\"All values in the dataset are floats\")\n",
        "else:\n",
        "  print(f\"{non_floats} values in dataset are not floats\")"
      ],
      "metadata": {
        "id": "4aVtVkv1dljh",
        "outputId": "4f6ae982-22cd-49bf-91e4-a5044a6fed88",
        "colab": {
          "base_uri": "https://localhost:8080/"
        }
      },
      "execution_count": 7,
      "outputs": [
        {
          "output_type": "stream",
          "name": "stdout",
          "text": [
            "All values in the dataset are floats\n"
          ]
        }
      ]
    },
    {
      "cell_type": "markdown",
      "source": [
        "# **Check for duplicates**"
      ],
      "metadata": {
        "id": "OGrob7DIZl6c"
      }
    },
    {
      "cell_type": "code",
      "source": [
        "# Function to find duplicate columns and delete them\n",
        "def delete_duplicate_columns(arr):\n",
        "    num_cols = arr.shape[1]\n",
        "    duplicate_columns = []\n",
        "    for i in range(num_cols):\n",
        "        for j in range(i + 1, num_cols):\n",
        "            if np.array_equal(arr[:, i], arr[:, j]):\n",
        "                duplicate_columns.append(j)  # Append index of the duplicate column\n",
        "    if duplicate_columns:\n",
        "        # Delete duplicate columns\n",
        "        arr_without_duplicates = np.delete(arr, duplicate_columns, axis=1)\n",
        "        return arr_without_duplicates, duplicate_columns\n",
        "    else:\n",
        "        return arr, []\n",
        "\n",
        "# Remove duplicate columns\n",
        "X_train_clean, deleted_indices = delete_duplicate_columns(X_train)\n",
        "\n",
        "print(\"Number of columns in original array:\",X_train.shape[1])\n",
        "print(\"Number of columns after removal of duplicate columns:\",X_train_clean.shape[1])"
      ],
      "metadata": {
        "colab": {
          "base_uri": "https://localhost:8080/"
        },
        "id": "nyEMNXijZ37p",
        "outputId": "21bce542-d79a-46ce-afed-3769e5ad23f6"
      },
      "execution_count": 80,
      "outputs": [
        {
          "output_type": "stream",
          "name": "stdout",
          "text": [
            "Number of columns in original array: 493\n",
            "Number of columns after removal of duplicate columns: 465\n"
          ]
        }
      ]
    },
    {
      "cell_type": "markdown",
      "source": [
        "# **Checking for outliers**\n",
        "Using the Z-score"
      ],
      "metadata": {
        "id": "6c9Rj_XInE6p"
      }
    },
    {
      "cell_type": "code",
      "source": [
        "num_rows, num_cols = X_train_clean.shape\n",
        "total_outliers = 0\n",
        "\n",
        "for i in range(num_cols):\n",
        "    z = np.abs(stats.zscore(X_train_clean[:,i]))\n",
        "\n",
        "    threshold = 3\n",
        "    outliers = X_train_clean[z > threshold, i]\n",
        "    total_outliers +=(len(outliers))\n",
        "\n",
        "print(f'Total number of outliers  = {total_outliers}/{num_rows*num_cols}')\n",
        "print(f'Avarage number of outliers per feature = {round(total_outliers/num_cols,2)}/{num_rows}')\n"
      ],
      "metadata": {
        "id": "mPIPeNp-nJTv",
        "outputId": "c41eb530-e1e8-418f-d71c-c7fcd7a4d8fc",
        "colab": {
          "base_uri": "https://localhost:8080/"
        }
      },
      "execution_count": 9,
      "outputs": [
        {
          "output_type": "stream",
          "name": "stdout",
          "text": [
            "Total number of outliers  = 661/42780\n",
            "Avarage number of outliers per feature = 1.42/92\n"
          ]
        }
      ]
    },
    {
      "cell_type": "markdown",
      "source": [
        "# **Check if the data is normally distributed**\n",
        "Using the Kolmogorov Smirnov"
      ],
      "metadata": {
        "id": "u3RmZ5isz4Iw"
      }
    },
    {
      "cell_type": "code",
      "source": [
        "total_not_normal = 0\n",
        "p_threshold = 0.05\n",
        "\n",
        "for l in range(num_cols):\n",
        "    kstest_result = stats.kstest(X_train_clean[:,l], 'norm')\n",
        "    if kstest_result.pvalue < p_threshold:\n",
        "        total_not_normal += 1\n",
        "\n",
        "print(f'Total features that are not normally distributed = {total_not_normal}/{num_cols}')\n"
      ],
      "metadata": {
        "id": "PB_LKu7Bz3Ul",
        "outputId": "38d32c4b-d895-4302-bebb-2c480e0d5b7f",
        "colab": {
          "base_uri": "https://localhost:8080/"
        }
      },
      "execution_count": 10,
      "outputs": [
        {
          "output_type": "stream",
          "name": "stdout",
          "text": [
            "Total features that are not normally distributed = 464/465\n"
          ]
        }
      ]
    },
    {
      "cell_type": "markdown",
      "source": [
        "# **Scaling**\n",
        "Robust scaling because outliers and non Gaussian distribution"
      ],
      "metadata": {
        "id": "Ammb7jQ7RCPb"
      }
    },
    {
      "cell_type": "code",
      "source": [
        "# Scale the data to be normal\n",
        "scaler = preprocessing.RobustScaler()\n",
        "scaler.fit(X_train_clean)\n",
        "X_train_scaled = scaler.transform(X_train_clean)"
      ],
      "metadata": {
        "id": "SjdjlpnSRGGd"
      },
      "execution_count": 11,
      "outputs": []
    },
    {
      "cell_type": "markdown",
      "source": [
        "# **Finding important features**"
      ],
      "metadata": {
        "id": "QWoPjjhsSQMe"
      }
    },
    {
      "cell_type": "code",
      "source": [
        "forest = RandomForestClassifier(n_estimators=100)\n",
        "\n",
        "forest.fit(X_train_scaled, y_train)\n",
        "importances = forest.feature_importances_\n",
        "std = np.std([tree.feature_importances_ for tree in forest.estimators_],\n",
        "             axis=0)\n",
        "indices = np.argsort(importances)[::-1]\n",
        "\n",
        "# Print the feature ranking\n",
        "print(\"Feature ranking:\")\n",
        "\n",
        "#for f in range(X_train_scaled.shape[1]):\n",
        "    #print(\"%d. feature %d (%f)\" % (f + 1, indices[f], importances[indices[f]]))\n",
        "\n",
        "# Plot the feature importances of the forest for the first 35 features\n",
        "plt.figure(figsize=(10, 6))  # Adjust figure size as needed\n",
        "plt.title(\"Feature importances\")\n",
        "plt.bar(range(20), importances[indices][:20],\n",
        "       color=\"r\", yerr=std[indices][:20], align=\"center\")\n",
        "plt.xticks(range(20), indices[:20])\n",
        "plt.xlim([-1, 20])\n",
        "plt.show()"
      ],
      "metadata": {
        "colab": {
          "base_uri": "https://localhost:8080/",
          "height": 562
        },
        "id": "vHuyWy9USVyU",
        "outputId": "2836ef6f-5515-452b-d01f-26ec256342ea"
      },
      "execution_count": 44,
      "outputs": [
        {
          "output_type": "stream",
          "name": "stdout",
          "text": [
            "Feature ranking:\n"
          ]
        },
        {
          "output_type": "display_data",
          "data": {
            "text/plain": [
              "<Figure size 1000x600 with 1 Axes>"
            ],
            "image/png": "[encoded data removed]"
          },
          "metadata": {}
        }
      ]
    },
    {
      "cell_type": "markdown",
      "source": [
        "# **Feature selection**\n",
        "Using L1 because it can better handle high dimensionality, it migigates overfitting and is easy to interpret"
      ],
      "metadata": {
        "id": "qNAjbYOLjx53"
      }
    },
    {
      "cell_type": "code",
      "source": [
        "print(\"Original data shape:\",X_train_scaled.shape)\n",
        "clf = LogisticRegression(max_iter=1000, solver='liblinear')\n",
        "lsvc = LogisticRegression(C=0.5, penalty=\"l1\", dual=False, solver='liblinear').fit(X_train_scaled, y_train)\n",
        "model = SelectFromModel(lsvc, prefit=True)\n",
        "X_feature = model.transform(X_train_scaled)\n",
        "print(\"New data shape:\",X_feature.shape)"
      ],
      "metadata": {
        "colab": {
          "base_uri": "https://localhost:8080/"
        },
        "id": "MqBnoaZ1SJHK",
        "outputId": "c7973227-9813-4548-f380-677a24c7bd80"
      },
      "execution_count": 58,
      "outputs": [
        {
          "output_type": "stream",
          "name": "stdout",
          "text": [
            "Original data shape: (92, 465)\n",
            "New data shape: (92, 37)\n"
          ]
        }
      ]
    },
    {
      "cell_type": "markdown",
      "source": [
        "# **PCA**"
      ],
      "metadata": {
        "id": "dm3msQI8WZ45"
      }
    },
    {
      "cell_type": "code",
      "source": [
        "# Voer PCA uit\n",
        "pca = decomposition.PCA(n_components=10)  #n_components is the amount of features that remain after PCA (can also be a ratio)\n",
        "X_pca = pca.fit_transform(X_feature)\n",
        "\n",
        "# Verklaarde variantie ratio's\n",
        "explained_variance_ratio = pca.explained_variance_ratio_\n",
        "\n",
        "# Cumulatieve verklaarde variantie\n",
        "cumulative_explained_variance = np.cumsum(explained_variance_ratio)\n",
        "\n",
        "# Maak een DataFrame om de resultaten mooi weer te geven\n",
        "df = pd.DataFrame({\n",
        "    'Principal Component': [f'PC{i+1}' for i in range(len(explained_variance_ratio))],\n",
        "    'Explained Variance Ratio': explained_variance_ratio,\n",
        "    'Cumulative Explained Variance': cumulative_explained_variance\n",
        "})\n",
        "\n",
        "print(df)"
      ],
      "metadata": {
        "colab": {
          "base_uri": "https://localhost:8080/"
        },
        "id": "2qm-dD7rWg_g",
        "outputId": "0002babb-8f34-4a89-cd82-b61621b806c6"
      },
      "execution_count": 13,
      "outputs": [
        {
          "output_type": "stream",
          "name": "stdout",
          "text": [
            "  Principal Component  Explained Variance Ratio  Cumulative Explained Variance\n",
            "0                 PC1                  0.959157                       0.959157\n",
            "1                 PC2                  0.026176                       0.985333\n",
            "2                 PC3                  0.007162                       0.992495\n",
            "3                 PC4                  0.004295                       0.996790\n",
            "4                 PC5                  0.002573                       0.999364\n",
            "5                 PC6                  0.000305                       0.999668\n",
            "6                 PC7                  0.000203                       0.999871\n",
            "7                 PC8                  0.000058                       0.999929\n",
            "8                 PC9                  0.000041                       0.999970\n",
            "9                PC10                  0.000018                       0.999988\n"
          ]
        }
      ]
    },
    {
      "cell_type": "markdown",
      "source": [
        "# **Random forest**"
      ],
      "metadata": {
        "id": "ansRTksVbive"
      }
    },
    {
      "cell_type": "code",
      "source": [
        "# Initialize KFold cross-validator\n",
        "loo = LeaveOneOut()\n",
        "\n",
        "scores_rfc = []\n",
        "# Iterate over each fold\n",
        "for train_index, val_index in loo.split(X_feature, y_train):\n",
        "    # Split data into train and validation sets for this fold\n",
        "    X_train_fold, X_val_fold = X_feature[train_index], X_feature[val_index]\n",
        "    y_train_fold, y_val_fold = y_train[train_index], y_train[val_index]\n",
        "    rfc = RandomForestClassifier(n_estimators=100, random_state=42)\n",
        "    rfc.fit(X_train_fold,y_train_fold)\n",
        "    pred_rfc = rfc.predict(X_val_fold)\n",
        "    accuracy_rfc = accuracy_score(y_val_fold, pred_rfc)\n",
        "\n",
        "    # Append accuracy to scores list\n",
        "    scores_rfc.append(accuracy_rfc)\n",
        "\n",
        "# Print the accuracy scores for each fold\n",
        "print(\"Accuracy scores for each fold:\", scores_rfc)\n",
        "\n",
        "# Calculate and print the average accuracy across all folds\n",
        "average_accuracy_rfc = sum(scores_rfc) / len(scores_rfc)\n",
        "print(\"Average Accuracy:\", average_accuracy_rfc)"
      ],
      "metadata": {
        "colab": {
          "base_uri": "https://localhost:8080/"
        },
        "id": "aKeuhOtKbiFC",
        "outputId": "4d56f8c3-8e7d-47ff-8697-d03b724165cc"
      },
      "execution_count": 59,
      "outputs": [
        {
          "output_type": "stream",
          "name": "stdout",
          "text": [
            "Accuracy scores for each fold: [1.0, 1.0, 1.0, 1.0, 1.0, 1.0, 1.0, 1.0, 1.0, 1.0, 1.0, 1.0, 1.0, 0.0, 1.0, 1.0, 1.0, 1.0, 1.0, 1.0, 1.0, 1.0, 1.0, 1.0, 1.0, 1.0, 1.0, 0.0, 1.0, 1.0, 0.0, 0.0, 1.0, 1.0, 1.0, 0.0, 1.0, 0.0, 1.0, 1.0, 0.0, 1.0, 1.0, 1.0, 1.0, 0.0, 1.0, 1.0, 0.0, 1.0, 1.0, 1.0, 0.0, 1.0, 0.0, 1.0, 1.0, 1.0, 1.0, 1.0, 1.0, 1.0, 0.0, 0.0, 1.0, 1.0, 0.0, 1.0, 1.0, 1.0, 1.0, 1.0, 0.0, 0.0, 0.0, 1.0, 1.0, 1.0, 1.0, 0.0, 1.0, 1.0, 1.0, 1.0, 1.0, 1.0, 0.0, 1.0, 1.0, 1.0, 1.0, 1.0]\n",
            "Average Accuracy: 0.7934782608695652\n"
          ]
        }
      ]
    },
    {
      "cell_type": "code",
      "source": [
        "loo = LeaveOneOut()\n",
        "\n",
        "# Define the parameter grid for grid search\n",
        "param_grid = {'n_estimators': range(50, 200, 10),}  # Adjust the range as needed\n",
        "\n",
        "# Initialize Random Forest classifier\n",
        "rfc = RandomForestClassifier(random_state=42)\n",
        "\n",
        "# Initialize GridSearchCV\n",
        "grid_search = GridSearchCV(estimator=rfc, param_grid=param_grid, cv=loo, scoring='accuracy')\n",
        "\n",
        "# Fit the GridSearchCV to the data\n",
        "grid_search.fit(X_feature, y_train)\n",
        "\n",
        "# Get the best estimator from grid search\n",
        "best_rfc = grid_search.best_estimator_\n",
        "\n",
        "# Get the best parameters from grid search\n",
        "best_params = grid_search.best_params_\n",
        "\n",
        "# Get the best score from grid search\n",
        "best_score = grid_search.best_score_\n",
        "\n",
        "print(\"Best Parameters:\", best_params)\n",
        "print(\"Best Score:\", best_score)"
      ],
      "metadata": {
        "id": "eoPxSwDWyRBT",
        "outputId": "472fae84-93e0-49f6-a349-15169cd3c4ab",
        "colab": {
          "base_uri": "https://localhost:8080/"
        }
      },
      "execution_count": 73,
      "outputs": [
        {
          "output_type": "stream",
          "name": "stdout",
          "text": [
            "Best Parameters: {'n_estimators': 130}\n",
            "Best Score: 0.8260869565217391\n"
          ]
        }
      ]
    },
    {
      "cell_type": "markdown",
      "source": [
        "# **SVM**"
      ],
      "metadata": {
        "id": "M57SpGqZeDhm"
      }
    },
    {
      "cell_type": "code",
      "source": [
        "# Initialize KFold cross-validator\n",
        "loo = LeaveOneOut()\n",
        "\n",
        "scores_clf = []\n",
        "# Iterate over each fold\n",
        "for train_index, val_index in loo.split(X_feature, y_train):\n",
        "    # Split data into train and validation sets for this fold\n",
        "    X_train_fold, X_val_fold = X_feature[train_index], X_feature[val_index]\n",
        "    y_train_fold, y_val_fold = y_train[train_index], y_train[val_index]\n",
        "    clf = svm.SVC()\n",
        "    clf.fit(X_train_fold,y_train_fold)\n",
        "    pred_clf = clf.predict(X_val_fold)\n",
        "    accuracy_clf = accuracy_score(y_val_fold, pred_clf)\n",
        "\n",
        "    # Append accuracy to scores list\n",
        "    scores_clf.append(accuracy_clf)\n",
        "\n",
        "# Print the accuracy scores for each fold\n",
        "print(\"Accuracy scores for each fold:\", scores_clf)\n",
        "\n",
        "# Calculate and print the average accuracy across all folds\n",
        "average_accuracy_clf = sum(scores_clf) / len(scores_clf)\n",
        "print(\"Average Accuracy:\", average_accuracy_clf)"
      ],
      "metadata": {
        "colab": {
          "base_uri": "https://localhost:8080/"
        },
        "id": "rygV2hV-eJ37",
        "outputId": "77e0a034-26ab-42e8-9044-f10c841340df"
      },
      "execution_count": 62,
      "outputs": [
        {
          "output_type": "stream",
          "name": "stdout",
          "text": [
            "Accuracy scores for each fold: [1.0, 0.0, 1.0, 1.0, 0.0, 0.0, 1.0, 1.0, 1.0, 0.0, 0.0, 0.0, 0.0, 0.0, 0.0, 0.0, 1.0, 1.0, 1.0, 0.0, 1.0, 1.0, 0.0, 0.0, 1.0, 0.0, 0.0, 1.0, 0.0, 1.0, 0.0, 1.0, 0.0, 1.0, 1.0, 0.0, 1.0, 1.0, 1.0, 1.0, 1.0, 0.0, 0.0, 1.0, 0.0, 1.0, 1.0, 1.0, 0.0, 1.0, 0.0, 1.0, 0.0, 0.0, 0.0, 0.0, 1.0, 1.0, 0.0, 1.0, 1.0, 0.0, 1.0, 1.0, 0.0, 1.0, 1.0, 0.0, 1.0, 1.0, 0.0, 1.0, 1.0, 0.0, 0.0, 0.0, 1.0, 0.0, 1.0, 1.0, 1.0, 1.0, 0.0, 1.0, 0.0, 1.0, 0.0, 1.0, 0.0, 1.0, 0.0, 1.0]\n",
            "Average Accuracy: 0.5434782608695652\n"
          ]
        }
      ]
    },
    {
      "cell_type": "code",
      "source": [
        "# Define the parameter grid for grid search\n",
        "param_grid = {\n",
        "    'C': [0.1, 1, 10],                      # Regularization parameter\n",
        "    'kernel': ['linear', 'poly', 'rbf', 'sigmoid'],    # Kernel type\n",
        "}\n",
        "\n",
        "# Initialize SVM classifier\n",
        "svc = svm.SVC()\n",
        "\n",
        "# Initialize GridSearchCV\n",
        "grid_search = GridSearchCV(estimator=svc, param_grid=param_grid, cv=loo, scoring='accuracy')\n",
        "\n",
        "# Fit the GridSearchCV to the data\n",
        "grid_search.fit(X_feature, y_train)\n",
        "\n",
        "# Get the best estimator from grid search\n",
        "best_svc = grid_search.best_estimator_\n",
        "\n",
        "# Get the best parameters from grid search\n",
        "best_params = grid_search.best_params_\n",
        "\n",
        "# Get the best score from grid search\n",
        "best_score = grid_search.best_score_\n",
        "\n",
        "print(\"Best Parameters:\", best_params)\n",
        "print(\"Best Score:\", best_score)"
      ],
      "metadata": {
        "id": "SUec95H5227d",
        "colab": {
          "base_uri": "https://localhost:8080/"
        },
        "outputId": "f1872df9-7d77-4bfa-cae9-a6e04c4dccce"
      },
      "execution_count": 61,
      "outputs": [
        {
          "output_type": "stream",
          "name": "stdout",
          "text": [
            "Best Parameters: {'C': 0.1, 'kernel': 'linear'}\n",
            "Best Score: 0.7934782608695652\n"
          ]
        }
      ]
    },
    {
      "cell_type": "markdown",
      "source": [
        "# **Neural network**"
      ],
      "metadata": {
        "id": "SGCWQPk4fS1K"
      }
    },
    {
      "cell_type": "code",
      "source": [
        "# Initialize KFold cross-validator\n",
        "loo = LeaveOneOut()\n",
        "\n",
        "scores_mlpc = []\n",
        "# Iterate over each fold\n",
        "for train_index, val_index in loo.split(X_feature, y_train):\n",
        "    # Split data into train and validation sets for this fold\n",
        "    X_train_fold, X_val_fold = X_feature[train_index], X_feature[val_index]\n",
        "    y_train_fold, y_val_fold = y_train[train_index], y_train[val_index]\n",
        "    mlpc = MLPClassifier(hidden_layer_sizes=(50,50),max_iter=500, random_state=42)\n",
        "    mlpc.fit(X_train_fold, y_train_fold)\n",
        "    pred_mlpc = mlpc.predict(X_val_fold)\n",
        "    accuracy_mlpc = accuracy_score(y_val_fold, pred_mlpc)\n",
        "\n",
        "    # Append accuracy to scores list\n",
        "    scores_mlpc.append(accuracy_mlpc)\n",
        "\n",
        "# Print the accuracy scores for each fold\n",
        "print(\"Accuracy scores for each fold:\", scores_mlpc)\n",
        "\n",
        "# Calculate and print the average accuracy across all folds\n",
        "average_accuracy_mlpc = sum(scores_mlpc) / len(scores_mlpc)\n",
        "print(\"Average Accuracy:\", average_accuracy_mlpc)"
      ],
      "metadata": {
        "colab": {
          "base_uri": "https://localhost:8080/"
        },
        "id": "O4dputYVfSc9",
        "outputId": "55f0b98a-9bc1-44b5-be94-018b8d728425"
      },
      "execution_count": 63,
      "outputs": [
        {
          "output_type": "stream",
          "name": "stdout",
          "text": [
            "Accuracy scores for each fold: [0.0, 1.0, 0.0, 1.0, 0.0, 1.0, 1.0, 1.0, 1.0, 1.0, 0.0, 1.0, 1.0, 0.0, 1.0, 1.0, 1.0, 1.0, 1.0, 1.0, 1.0, 1.0, 1.0, 0.0, 1.0, 0.0, 1.0, 1.0, 0.0, 0.0, 1.0, 1.0, 1.0, 1.0, 0.0, 1.0, 1.0, 1.0, 0.0, 0.0, 1.0, 1.0, 1.0, 1.0, 1.0, 0.0, 1.0, 1.0, 0.0, 1.0, 0.0, 1.0, 0.0, 1.0, 1.0, 0.0, 1.0, 1.0, 1.0, 1.0, 1.0, 0.0, 0.0, 1.0, 1.0, 1.0, 0.0, 1.0, 1.0, 1.0, 0.0, 1.0, 0.0, 0.0, 0.0, 0.0, 0.0, 1.0, 1.0, 0.0, 1.0, 0.0, 1.0, 1.0, 1.0, 1.0, 1.0, 0.0, 1.0, 1.0, 1.0, 1.0]\n",
            "Average Accuracy: 0.6847826086956522\n"
          ]
        }
      ]
    },
    {
      "cell_type": "code",
      "source": [
        "# Define the parameter grid for grid search\n",
        "param_grid = {\n",
        "    'hidden_layer_sizes': [(50,), (100,), (50, 50)],  # Number of neurons in each hidden layer\n",
        "    'activation': ['relu', 'tanh', 'logistic'],        # Activation function\n",
        "    'learning_rate': ['constant', 'adaptive'],      # Learning rate schedule\n",
        "    'early_stopping': [True]\n",
        "}\n",
        "\n",
        "# Initialize MLPClassifier\n",
        "mlp = MLPClassifier()\n",
        "\n",
        "# Initialize GridSearchCV\n",
        "grid_search = GridSearchCV(estimator=mlp, param_grid=param_grid, cv=loo, scoring='accuracy')\n",
        "\n",
        "# Fit the GridSearchCV to the data\n",
        "grid_search.fit(X_feature, y_train)\n",
        "\n",
        "# Get the best estimator from grid search\n",
        "best_mlp = grid_search.best_estimator_\n",
        "\n",
        "# Get the best parameters from grid search\n",
        "best_params = grid_search.best_params_\n",
        "\n",
        "# Get the best score from grid search\n",
        "best_score = grid_search.best_score_\n",
        "\n",
        "print(\"Best Parameters:\", best_params)\n",
        "print(\"Best Score:\", best_score)"
      ],
      "metadata": {
        "id": "KaUKd5x1pSz1",
        "colab": {
          "base_uri": "https://localhost:8080/"
        },
        "outputId": "eb6223c3-7ac4-4940-9962-ee50cebe399e"
      },
      "execution_count": 65,
      "outputs": [
        {
          "output_type": "stream",
          "name": "stdout",
          "text": [
            "Best Parameters: {'activation': 'logistic', 'early_stopping': True, 'hidden_layer_sizes': (100,), 'learning_rate': 'constant'}\n",
            "Best Score: 0.6739130434782609\n"
          ]
        }
      ]
    },
    {
      "cell_type": "markdown",
      "source": [
        "# **Learning curve random forest**"
      ],
      "metadata": {
        "id": "LFpra6H_Do-u"
      }
    },
    {
      "cell_type": "code",
      "source": [
        "n_est_list = list(range(50,160,10))\n",
        "\n",
        "all_train = []\n",
        "all_test = []\n",
        "\n",
        "# Repeat the experiment 20 times, use 20 random splits in which class balance is retained\n",
        "cv = model_selection.StratifiedKFold(n_splits=10, shuffle=True, random_state=42)\n",
        "loo = LeaveOneOut()\n",
        "\n",
        "for train_index, test_index in loo.split(X_feature, y_train):\n",
        "    train_scores = []\n",
        "    test_scores = []\n",
        "\n",
        "    split_X_train = X_train_scaled[train_index]\n",
        "    split_y_train = y_train[train_index]\n",
        "    split_X_test = X_train_scaled[test_index]\n",
        "    split_y_test = y_train[test_index]\n",
        "\n",
        "    for k in n_est_list:\n",
        "        rfc = RandomForestClassifier(n_estimators= k)\n",
        "        rfc.fit(split_X_train, split_y_train)\n",
        "\n",
        "        # Test the classifier on the training data and plot\n",
        "        score_train = rfc.score(split_X_train, split_y_train)\n",
        "        score_test = rfc.score(split_X_test, split_y_test)\n",
        "\n",
        "        train_scores.append(score_train)\n",
        "        test_scores.append(score_test)\n",
        "\n",
        "    all_train.append(train_scores)\n",
        "    all_test.append(test_scores)\n",
        "\n",
        "\n",
        "# Create numpy array of scores and calculate the mean and std\n",
        "all_train = np.array(all_train)\n",
        "all_test = np.array(all_test)\n",
        "\n",
        "train_scores_mean = all_train.mean(axis=0)\n",
        "train_scores_std = all_train.std(axis=0)\n",
        "\n",
        "test_scores_mean = all_test.mean(axis=0)\n",
        "test_scores_std = all_test.std(axis=0)\n",
        "\n",
        "# Plot the mean scores and the std as shading\n",
        "fig = plt.figure(figsize=(8,8))\n",
        "ax = fig.add_subplot(111)\n",
        "ax.grid()\n",
        "ax.fill_between(n_est_list, train_scores_mean - train_scores_std,\n",
        "                     train_scores_mean + train_scores_std, alpha=0.1,\n",
        "                     color=\"r\")\n",
        "ax.fill_between(n_est_list, test_scores_mean - test_scores_std,\n",
        "                     test_scores_mean + test_scores_std, alpha=0.1,\n",
        "                     color=\"g\")\n",
        "ax.plot(n_est_list, train_scores_mean, 'o-', color=\"r\",\n",
        "        label=\"Training score\")\n",
        "ax.plot(n_est_list, test_scores_mean, 'o-', color=\"g\",\n",
        "        label=\"Test score\")"
      ],
      "metadata": {
        "colab": {
          "base_uri": "https://localhost:8080/",
          "height": 693
        },
        "id": "YXhdGa0sy3Ia",
        "outputId": "32a6e472-4476-4340-9189-6297a751465a"
      },
      "execution_count": 68,
      "outputs": [
        {
          "output_type": "execute_result",
          "data": {
            "text/plain": [
              "[<matplotlib.lines.Line2D at 0x7b9707b10490>]"
            ]
          },
          "metadata": {},
          "execution_count": 68
        },
        {
          "output_type": "display_data",
          "data": {
            "text/plain": [
              "<Figure size 800x800 with 1 Axes>"
            ],
            "image/png": "[encoded data removed]"
          },
          "metadata": {}
        }
      ]
    },
    {
      "cell_type": "markdown",
      "source": [
        "# **Retraining**"
      ],
      "metadata": {
        "id": "QSQuxfnLyWJ9"
      }
    },
    {
      "cell_type": "code",
      "source": [
        "# Initialize the Random Forest classifier\n",
        "rf_classifier = RandomForestClassifier(n_estimators=130, random_state=42)\n",
        "\n",
        "# Train the classifier on the entire training data\n",
        "rf_classifier.fit(X_feature, y_train)"
      ],
      "metadata": {
        "colab": {
          "base_uri": "https://localhost:8080/",
          "height": 74
        },
        "id": "BP9Wcf1uybAW",
        "outputId": "2e0d42db-9c03-41f0-b621-afeb8e7daa89"
      },
      "execution_count": 72,
      "outputs": [
        {
          "output_type": "execute_result",
          "data": {
            "text/plain": [
              "RandomForestClassifier(n_estimators=130, random_state=42)"
            ],
            "text/html": [
              "<style>#sk-container-id-3 {color: black;background-color: white;}#sk-container-id-3 pre{padding: 0;}#sk-container-id-3 div.sk-toggleable {background-color: white;}#sk-container-id-3 label.sk-toggleable__label {cursor: pointer;display: block;width: 100%;margin-bottom: 0;padding: 0.3em;box-sizing: border-box;text-align: center;}#sk-container-id-3 label.sk-toggleable__label-arrow:before {content: \"▸\";float: left;margin-right: 0.25em;color: #696969;}#sk-container-id-3 label.sk-toggleable__label-arrow:hover:before {color: black;}#sk-container-id-3 div.sk-estimator:hover label.sk-toggleable__label-arrow:before {color: black;}#sk-container-id-3 div.sk-toggleable__content {max-height: 0;max-width: 0;overflow: hidden;text-align: left;background-color: #f0f8ff;}#sk-container-id-3 div.sk-toggleable__content pre {margin: 0.2em;color: black;border-radius: 0.25em;background-color: #f0f8ff;}#sk-container-id-3 input.sk-toggleable__control:checked~div.sk-toggleable__content {max-height: 200px;max-width: 100%;overflow: auto;}#sk-container-id-3 input.sk-toggleable__control:checked~label.sk-toggleable__label-arrow:before {content: \"▾\";}#sk-container-id-3 div.sk-estimator input.sk-toggleable__control:checked~label.sk-toggleable__label {background-color: #d4ebff;}#sk-container-id-3 div.sk-label input.sk-toggleable__control:checked~label.sk-toggleable__label {background-color: #d4ebff;}#sk-container-id-3 input.sk-hidden--visually {border: 0;clip: rect(1px 1px 1px 1px);clip: rect(1px, 1px, 1px, 1px);height: 1px;margin: -1px;overflow: hidden;padding: 0;position: absolute;width: 1px;}#sk-container-id-3 div.sk-estimator {font-family: monospace;background-color: #f0f8ff;border: 1px dotted black;border-radius: 0.25em;box-sizing: border-box;margin-bottom: 0.5em;}#sk-container-id-3 div.sk-estimator:hover {background-color: #d4ebff;}#sk-container-id-3 div.sk-parallel-item::after {content: \"\";width: 100%;border-bottom: 1px solid gray;flex-grow: 1;}#sk-container-id-3 div.sk-label:hover label.sk-toggleable__label {background-color: #d4ebff;}#sk-container-id-3 div.sk-serial::before {content: \"\";position: absolute;border-left: 1px solid gray;box-sizing: border-box;top: 0;bottom: 0;left: 50%;z-index: 0;}#sk-container-id-3 div.sk-serial {display: flex;flex-direction: column;align-items: center;background-color: white;padding-right: 0.2em;padding-left: 0.2em;position: relative;}#sk-container-id-3 div.sk-item {position: relative;z-index: 1;}#sk-container-id-3 div.sk-parallel {display: flex;align-items: stretch;justify-content: center;background-color: white;position: relative;}#sk-container-id-3 div.sk-item::before, #sk-container-id-3 div.sk-parallel-item::before {content: \"\";position: absolute;border-left: 1px solid gray;box-sizing: border-box;top: 0;bottom: 0;left: 50%;z-index: -1;}#sk-container-id-3 div.sk-parallel-item {display: flex;flex-direction: column;z-index: 1;position: relative;background-color: white;}#sk-container-id-3 div.sk-parallel-item:first-child::after {align-self: flex-end;width: 50%;}#sk-container-id-3 div.sk-parallel-item:last-child::after {align-self: flex-start;width: 50%;}#sk-container-id-3 div.sk-parallel-item:only-child::after {width: 0;}#sk-container-id-3 div.sk-dashed-wrapped {border: 1px dashed gray;margin: 0 0.4em 0.5em 0.4em;box-sizing: border-box;padding-bottom: 0.4em;background-color: white;}#sk-container-id-3 div.sk-label label {font-family: monospace;font-weight: bold;display: inline-block;line-height: 1.2em;}#sk-container-id-3 div.sk-label-container {text-align: center;}#sk-container-id-3 div.sk-container {/* jupyter's `normalize.less` sets `[hidden] { display: none; }` but bootstrap.min.css set `[hidden] { display: none !important; }` so we also need the `!important` here to be able to override the default hidden behavior on the sphinx rendered scikit-learn.org. See: https://github.com/scikit-learn/scikit-learn/issues/21755 */display: inline-block !important;position: relative;}#sk-container-id-3 div.sk-text-repr-fallback {display: none;}</style><div id=\"sk-container-id-3\" class=\"sk-top-container\"><div class=\"sk-text-repr-fallback\"><pre>RandomForestClassifier(n_estimators=130, random_state=42)</pre><b>In a Jupyter environment, please rerun this cell to show the HTML representation or trust the notebook. <br />On GitHub, the HTML representation is unable to render, please try loading this page with nbviewer.org.</b></div><div class=\"sk-container\" hidden><div class=\"sk-item\"><div class=\"sk-estimator sk-toggleable\"><input class=\"sk-toggleable__control sk-hidden--visually\" id=\"sk-estimator-id-3\" type=\"checkbox\" checked><label for=\"sk-estimator-id-3\" class=\"sk-toggleable__label sk-toggleable__label-arrow\">RandomForestClassifier</label><div class=\"sk-toggleable__content\"><pre>RandomForestClassifier(n_estimators=130, random_state=42)</pre></div></div></div></div></div>"
            ]
          },
          "metadata": {},
          "execution_count": 72
        }
      ]
    },
    {
      "cell_type": "markdown",
      "source": [
        "#**Test**"
      ],
      "metadata": {
        "id": "wjqY6xZXClDG"
      }
    },
    {
      "cell_type": "code",
      "source": [
        "# Check for missing values\n",
        "missing_values = np.sum(np.isnan(X_test))\n",
        "print(\"Number of missing values:\",missing_values)\n",
        "\n",
        "# Checks if all the data points are floats\n",
        "non_floats = 0\n",
        "for row in X_test:\n",
        "  for col in row:\n",
        "    if not isinstance(col, float):\n",
        "        non_floats += 1\n",
        "\n",
        "# Remove duplicate columns\n",
        "X_test_clean = np.delete(X_test, deleted_indices, axis=1)\n",
        "print(\"Number of columns in original array:\",X_test.shape[1])\n",
        "print(\"Number of columns after removal of duplicate columns:\",X_test_clean.shape[1])\n",
        "\n",
        "# Scaling\n",
        "X_test_scaled = scaler.transform(X_test_clean)\n",
        "\n",
        "# Feature selection\n",
        "X_test_feature =  model.transform(X_test_scaled)\n",
        "print(\"New data shape:\",X_test_feature.shape)\n",
        "\n",
        "# Random forest\n",
        "pred_test = rf_classifier.predict(X_test_feature)\n",
        "accuracy_test = accuracy_score(y_test, pred_test)\n",
        "print(f'The accuracy of the model is: {accuracy_test}')\n",
        "print(pred_test)\n",
        "print(y_test)"
      ],
      "metadata": {
        "id": "bQDcIwFfCkUV",
        "outputId": "0a413b2d-8b7f-494e-d93a-5441ab28fff7",
        "colab": {
          "base_uri": "https://localhost:8080/"
        }
      },
      "execution_count": 86,
      "outputs": [
        {
          "output_type": "stream",
          "name": "stdout",
          "text": [
            "Number of missing values: 0\n",
            "Number of columns in original array: 493\n",
            "Number of columns after removal of duplicate columns: 465\n",
            "New data shape: (23, 37)\n",
            "The accuracy of the model is: 0.6521739130434783\n",
            "['lipoma' 'liposarcoma' 'lipoma' 'liposarcoma' 'lipoma' 'lipoma' 'lipoma'\n",
            " 'liposarcoma' 'lipoma' 'lipoma' 'lipoma' 'lipoma' 'liposarcoma' 'lipoma'\n",
            " 'lipoma' 'lipoma' 'lipoma' 'lipoma' 'liposarcoma' 'lipoma' 'lipoma'\n",
            " 'liposarcoma' 'lipoma']\n",
            "['liposarcoma' 'liposarcoma' 'lipoma' 'liposarcoma' 'liposarcoma'\n",
            " 'liposarcoma' 'lipoma' 'lipoma' 'lipoma' 'lipoma' 'lipoma' 'lipoma'\n",
            " 'liposarcoma' 'liposarcoma' 'lipoma' 'liposarcoma' 'lipoma' 'liposarcoma'\n",
            " 'liposarcoma' 'liposarcoma' 'lipoma' 'liposarcoma' 'lipoma']\n"
          ]
        }
      ]
    }
  ],
  "metadata": {
    "colab": {
      "name": "assignment.ipynb",
      "provenance": []
    },
    "kernelspec": {
      "display_name": "Python 3",
      "language": "python",
      "name": "python3"
    },
    "language_info": {
      "codemirror_mode": {
        "name": "ipython",
        "version": 3
      },
      "file_extension": ".py",
      "mimetype": "text/x-python",
      "name": "python",
      "nbconvert_exporter": "python",
      "pygments_lexer": "ipython3",
      "version": "3.8.5"
    }
  },
  "nbformat": 4,
  "nbformat_minor": 0
}
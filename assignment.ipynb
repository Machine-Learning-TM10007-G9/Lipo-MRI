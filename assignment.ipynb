{
  "cells": [
    {
      "cell_type": "markdown",
      "metadata": {
        "id": "7SXpaKwwGe5x"
      },
      "source": [
        "# TM10007 Assignment template"
      ]
    },
    {
      "cell_type": "code",
      "execution_count": 6,
      "metadata": {
        "colab": {
          "base_uri": "https://localhost:8080/"
        },
        "id": "CiDn2Sk-VWqE",
        "outputId": "878e8f9e-068a-4c37-ed4a-13e2a82301c8"
      },
      "outputs": [
        {
          "output_type": "stream",
          "name": "stdout",
          "text": [
            "  Preparing metadata (setup.py) ... \u001b[?25l\u001b[?25hdone\n",
            "\u001b[2K     \u001b[90m━━━━━━━━━━━━━━━━━━━━━━━━━━━━━━━━━━━━━━━━\u001b[0m \u001b[32m23.7/23.7 MB\u001b[0m \u001b[31m53.2 MB/s\u001b[0m eta \u001b[36m0:00:00\u001b[0m\n",
            "\u001b[2K     \u001b[90m━━━━━━━━━━━━━━━━━━━━━━━━━━━━━━━━━━━━━━━━\u001b[0m \u001b[32m823.6/823.6 kB\u001b[0m \u001b[31m57.5 MB/s\u001b[0m eta \u001b[36m0:00:00\u001b[0m\n",
            "\u001b[2K     \u001b[90m━━━━━━━━━━━━━━━━━━━━━━━━━━━━━━━━━━━━━━━━\u001b[0m \u001b[32m14.1/14.1 MB\u001b[0m \u001b[31m79.1 MB/s\u001b[0m eta \u001b[36m0:00:00\u001b[0m\n",
            "\u001b[2K     \u001b[90m━━━━━━━━━━━━━━━━━━━━━━━━━━━━━━━━━━━━━━━━\u001b[0m \u001b[32m731.7/731.7 MB\u001b[0m \u001b[31m1.9 MB/s\u001b[0m eta \u001b[36m0:00:00\u001b[0m\n",
            "\u001b[2K     \u001b[90m━━━━━━━━━━━━━━━━━━━━━━━━━━━━━━━━━━━━━━━━\u001b[0m \u001b[32m410.6/410.6 MB\u001b[0m \u001b[31m2.7 MB/s\u001b[0m eta \u001b[36m0:00:00\u001b[0m\n",
            "\u001b[2K     \u001b[90m━━━━━━━━━━━━━━━━━━━━━━━━━━━━━━━━━━━━━━━━\u001b[0m \u001b[32m121.6/121.6 MB\u001b[0m \u001b[31m9.0 MB/s\u001b[0m eta \u001b[36m0:00:00\u001b[0m\n",
            "\u001b[2K     \u001b[90m━━━━━━━━━━━━━━━━━━━━━━━━━━━━━━━━━━━━━━━━\u001b[0m \u001b[32m56.5/56.5 MB\u001b[0m \u001b[31m10.4 MB/s\u001b[0m eta \u001b[36m0:00:00\u001b[0m\n",
            "\u001b[2K     \u001b[90m━━━━━━━━━━━━━━━━━━━━━━━━━━━━━━━━━━━━━━━━\u001b[0m \u001b[32m124.2/124.2 MB\u001b[0m \u001b[31m8.4 MB/s\u001b[0m eta \u001b[36m0:00:00\u001b[0m\n",
            "\u001b[2K     \u001b[90m━━━━━━━━━━━━━━━━━━━━━━━━━━━━━━━━━━━━━━━━\u001b[0m \u001b[32m196.0/196.0 MB\u001b[0m \u001b[31m6.1 MB/s\u001b[0m eta \u001b[36m0:00:00\u001b[0m\n",
            "\u001b[2K     \u001b[90m━━━━━━━━━━━━━━━━━━━━━━━━━━━━━━━━━━━━━━━━\u001b[0m \u001b[32m166.0/166.0 MB\u001b[0m \u001b[31m2.3 MB/s\u001b[0m eta \u001b[36m0:00:00\u001b[0m\n",
            "\u001b[2K     \u001b[90m━━━━━━━━━━━━━━━━━━━━━━━━━━━━━━━━━━━━━━━━\u001b[0m \u001b[32m99.1/99.1 kB\u001b[0m \u001b[31m12.6 MB/s\u001b[0m eta \u001b[36m0:00:00\u001b[0m\n",
            "\u001b[2K     \u001b[90m━━━━━━━━━━━━━━━━━━━━━━━━━━━━━━━━━━━━━━━━\u001b[0m \u001b[32m21.1/21.1 MB\u001b[0m \u001b[31m71.1 MB/s\u001b[0m eta \u001b[36m0:00:00\u001b[0m\n",
            "\u001b[?25h  Building wheel for ktml (setup.py) ... \u001b[?25l\u001b[?25hdone\n"
          ]
        }
      ],
      "source": [
        "# Run this to use from colab environment\n",
        "!pip install -q --upgrade git+https://github.com/Machine-Learning-TM10007-G9/Lipo-MRI.git"
      ]
    },
    {
      "cell_type": "markdown",
      "metadata": {
        "id": "zuSR7zcbNW0h"
      },
      "source": [
        "## Data loading and cleaning\n",
        "\n",
        "Below are functions to load the dataset of your choice. After that, it is all up to you to create and evaluate a classification method. Beware, there may be missing values in these datasets. Good luck!"
      ]
    },
    {
      "cell_type": "code",
      "execution_count": 7,
      "metadata": {
        "colab": {
          "base_uri": "https://localhost:8080/"
        },
        "id": "-NE_fTbKGe5z",
        "outputId": "da3483ee-1461-437f-82e3-af8f2bfca158"
      },
      "outputs": [
        {
          "output_type": "stream",
          "name": "stdout",
          "text": [
            "The number of samples: 115\n",
            "The number of columns: 494\n"
          ]
        }
      ],
      "source": [
        "# Data loading functions. Uncomment the one you want to use\n",
        "#from worcgist.load_data import load_data\n",
        "from worclipo.load_data import load_data\n",
        "#from worcliver.load_data import load_data\n",
        "#from ecg.load_data import load_data\n",
        "\n",
        "data = load_data()\n",
        "print(f'The number of samples: {len(data.index)}')\n",
        "print(f'The number of columns: {len(data.columns)}')\n",
        "\n"
      ]
    },
    {
      "cell_type": "markdown",
      "source": [
        "# **Import important functions**"
      ],
      "metadata": {
        "id": "g8ivKj_yynDm"
      }
    },
    {
      "cell_type": "code",
      "execution_count": 8,
      "metadata": {
        "id": "mSI_faQPNW0i"
      },
      "outputs": [],
      "source": [
        "# General packages\n",
        "import numpy as np\n",
        "import pandas as pd\n",
        "import matplotlib.pyplot as plt\n",
        "from sklearn import datasets as ds\n",
        "import seaborn\n",
        "\n",
        "\n",
        "# Classifiers\n",
        "from sklearn import model_selection\n",
        "from sklearn import metrics\n",
        "from sklearn import feature_selection\n",
        "from sklearn import preprocessing\n",
        "from sklearn import neighbors\n",
        "from sklearn import svm\n",
        "from sklearn import decomposition"
      ]
    },
    {
      "cell_type": "markdown",
      "source": [
        "# Create X and **Y**"
      ],
      "metadata": {
        "id": "eFLxHJ2Az70n"
      }
    },
    {
      "cell_type": "code",
      "source": [
        "x = data.iloc[:, 1:].values\n",
        "y = np.array(data['label'])"
      ],
      "metadata": {
        "id": "DtPbcpXFz7au"
      },
      "execution_count": 18,
      "outputs": []
    },
    {
      "cell_type": "code",
      "source": [
        "print(x)\n",
        "print(y)"
      ],
      "metadata": {
        "id": "1QXwakk91JRu",
        "outputId": "fbb6036e-6cc1-4a18-d374-3facd1543284",
        "colab": {
          "base_uri": "https://localhost:8080/"
        }
      },
      "execution_count": 19,
      "outputs": [
        {
          "output_type": "stream",
          "name": "stdout",
          "text": [
            "[[3.68433535e-01 2.62371019e-01 2.62003946e+01 ... 3.23830499e+03\n",
            "  3.15148298e-01 1.44623614e+01]\n",
            " [6.60570848e-01 1.79012554e-01 5.51550462e+01 ... 1.53647244e+04\n",
            "  2.51255317e-01 1.71702745e+01]\n",
            " [3.65191450e-01 1.57712493e-01 3.05770259e+01 ... 3.77179816e+03\n",
            "  3.69366254e-01 1.43948122e+01]\n",
            " ...\n",
            " [3.07562053e-01 1.69252018e-01 4.94737956e+01 ... 4.96797676e+03\n",
            "  2.46028326e-01 1.51067769e+01]\n",
            " [5.77333471e-01 2.59572405e-01 3.85229179e+01 ... 2.34864119e+03\n",
            "  1.61139764e-01 1.47716419e+01]\n",
            " [6.35281625e-01 1.45088086e-01 9.98527053e+01 ... 1.04654714e+04\n",
            "  0.00000000e+00 1.75445559e+01]]\n",
            "['liposarcoma' 'liposarcoma' 'lipoma' 'liposarcoma' 'lipoma' 'lipoma'\n",
            " 'lipoma' 'lipoma' 'liposarcoma' 'lipoma' 'lipoma' 'liposarcoma'\n",
            " 'liposarcoma' 'lipoma' 'liposarcoma' 'liposarcoma' 'lipoma' 'lipoma'\n",
            " 'lipoma' 'liposarcoma' 'lipoma' 'liposarcoma' 'lipoma' 'liposarcoma'\n",
            " 'lipoma' 'liposarcoma' 'liposarcoma' 'liposarcoma' 'lipoma' 'liposarcoma'\n",
            " 'liposarcoma' 'lipoma' 'lipoma' 'lipoma' 'lipoma' 'lipoma' 'lipoma'\n",
            " 'liposarcoma' 'lipoma' 'liposarcoma' 'lipoma' 'liposarcoma' 'liposarcoma'\n",
            " 'liposarcoma' 'liposarcoma' 'liposarcoma' 'lipoma' 'liposarcoma'\n",
            " 'liposarcoma' 'liposarcoma' 'liposarcoma' 'lipoma' 'liposarcoma'\n",
            " 'liposarcoma' 'lipoma' 'lipoma' 'lipoma' 'liposarcoma' 'liposarcoma'\n",
            " 'liposarcoma' 'lipoma' 'lipoma' 'liposarcoma' 'liposarcoma' 'lipoma'\n",
            " 'lipoma' 'lipoma' 'liposarcoma' 'liposarcoma' 'liposarcoma' 'lipoma'\n",
            " 'liposarcoma' 'liposarcoma' 'liposarcoma' 'liposarcoma' 'lipoma' 'lipoma'\n",
            " 'liposarcoma' 'liposarcoma' 'lipoma' 'lipoma' 'lipoma' 'liposarcoma'\n",
            " 'lipoma' 'lipoma' 'liposarcoma' 'liposarcoma' 'liposarcoma' 'liposarcoma'\n",
            " 'lipoma' 'liposarcoma' 'lipoma' 'lipoma' 'lipoma' 'lipoma' 'lipoma'\n",
            " 'lipoma' 'lipoma' 'liposarcoma' 'liposarcoma' 'lipoma' 'lipoma'\n",
            " 'liposarcoma' 'lipoma' 'liposarcoma' 'liposarcoma' 'lipoma' 'liposarcoma'\n",
            " 'lipoma' 'lipoma' 'lipoma' 'liposarcoma' 'liposarcoma' 'lipoma'\n",
            " 'liposarcoma']\n"
          ]
        }
      ]
    },
    {
      "cell_type": "markdown",
      "source": [
        "# **Split and scale the data**"
      ],
      "metadata": {
        "id": "JIfugNhPzDo5"
      }
    },
    {
      "cell_type": "code",
      "source": [
        "# Split data\n",
        "x_train, x_test, y_train, y_test = model_selection.train_test_split(x, y, test_size=0.2, stratify=y)\n",
        "\n",
        "print(len(x_train))\n",
        "print(len(x_test))\n",
        "print(len(y_train))\n",
        "print(len(y_test))\n",
        "\n",
        "# Scale the data to be normal\n",
        "scaler = preprocessing.StandardScaler()\n",
        "scaler.fit(x_train)\n",
        "x_train_scaled = scaler.transform(x_train)\n",
        "x_test_scaled = scaler.transform(x_test)"
      ],
      "metadata": {
        "id": "TmcPnIBdzCG_",
        "outputId": "165d1ee5-2fd8-4d64-d30a-1078cb6b2228",
        "colab": {
          "base_uri": "https://localhost:8080/"
        }
      },
      "execution_count": 23,
      "outputs": [
        {
          "output_type": "stream",
          "name": "stdout",
          "text": [
            "92\n",
            "23\n",
            "92\n",
            "23\n"
          ]
        }
      ]
    }
  ],
  "metadata": {
    "colab": {
      "name": "assignment.ipynb",
      "provenance": []
    },
    "kernelspec": {
      "display_name": "Python 3",
      "language": "python",
      "name": "python3"
    },
    "language_info": {
      "codemirror_mode": {
        "name": "ipython",
        "version": 3
      },
      "file_extension": ".py",
      "mimetype": "text/x-python",
      "name": "python",
      "nbconvert_exporter": "python",
      "pygments_lexer": "ipython3",
      "version": "3.8.5"
    }
  },
  "nbformat": 4,
  "nbformat_minor": 0
}
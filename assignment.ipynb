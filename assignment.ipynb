{
  "cells": [
    {
      "cell_type": "markdown",
      "metadata": {
        "id": "7SXpaKwwGe5x"
      },
      "source": [
        "# TM10007 Assignment template"
      ]
    },
    {
      "cell_type": "code",
      "execution_count": 39,
      "metadata": {
        "colab": {
          "base_uri": "https://localhost:8080/"
        },
        "id": "CiDn2Sk-VWqE",
        "outputId": "5703f2c7-e89a-4b63-f06c-ff87bf772492"
      },
      "outputs": [
        {
          "output_type": "stream",
          "name": "stdout",
          "text": [
            "  Preparing metadata (setup.py) ... \u001b[?25l\u001b[?25hdone\n"
          ]
        }
      ],
      "source": [
        "# Run this to use from colab environment\n",
        "!pip install -q --upgrade git+https://github.com/Machine-Learning-TM10007-G9/Lipo-MRI.git"
      ]
    },
    {
      "cell_type": "markdown",
      "metadata": {
        "id": "zuSR7zcbNW0h"
      },
      "source": [
        "## Data loading and cleaning\n",
        "\n",
        "Below are functions to load the dataset of your choice. After that, it is all up to you to create and evaluate a classification method. Beware, there may be missing values in these datasets. Good luck!"
      ]
    },
    {
      "cell_type": "code",
      "execution_count": 40,
      "metadata": {
        "colab": {
          "base_uri": "https://localhost:8080/"
        },
        "id": "-NE_fTbKGe5z",
        "outputId": "1c01f64a-dd20-4050-8be2-ded0f336214e"
      },
      "outputs": [
        {
          "output_type": "stream",
          "name": "stdout",
          "text": [
            "The number of samples: 115\n",
            "The number of columns: 494\n"
          ]
        }
      ],
      "source": [
        "# Data loading functions. Uncomment the one you want to use\n",
        "#from worcgist.load_data import load_data\n",
        "from worclipo.load_data import load_data\n",
        "#from worcliver.load_data import load_data\n",
        "#from ecg.load_data import load_data\n",
        "\n",
        "data = load_data()\n",
        "print(f'The number of samples: {len(data.index)}')\n",
        "print(f'The number of columns: {len(data.columns)}')\n",
        "\n"
      ]
    },
    {
      "cell_type": "markdown",
      "source": [
        "# **Import important functions**"
      ],
      "metadata": {
        "id": "g8ivKj_yynDm"
      }
    },
    {
      "cell_type": "code",
      "execution_count": 41,
      "metadata": {
        "id": "mSI_faQPNW0i"
      },
      "outputs": [],
      "source": [
        "# General packages\n",
        "import numpy as np\n",
        "import pandas as pd\n",
        "import matplotlib.pyplot as plt\n",
        "from sklearn import datasets as ds\n",
        "import seaborn\n",
        "\n",
        "\n",
        "# Classifiers\n",
        "from sklearn import model_selection\n",
        "from sklearn import metrics\n",
        "from sklearn import feature_selection\n",
        "from sklearn import preprocessing\n",
        "from sklearn import neighbors\n",
        "from sklearn import svm\n",
        "from sklearn import decomposition"
      ]
    },
    {
      "cell_type": "markdown",
      "source": [
        "# Create X and **Y**"
      ],
      "metadata": {
        "id": "eFLxHJ2Az70n"
      }
    },
    {
      "cell_type": "code",
      "source": [
        "X = data.iloc[:, 1:].values\n",
        "y = np.array(data['label'])"
      ],
      "metadata": {
        "id": "DtPbcpXFz7au"
      },
      "execution_count": 43,
      "outputs": []
    },
    {
      "cell_type": "code",
      "source": [
        "print(X)\n",
        "print(y)"
      ],
      "metadata": {
        "id": "1QXwakk91JRu",
        "outputId": "d268687e-c9ff-41ab-da71-0a0afae74cdd",
        "colab": {
          "base_uri": "https://localhost:8080/"
        }
      },
      "execution_count": 44,
      "outputs": [
        {
          "output_type": "stream",
          "name": "stdout",
          "text": [
            "[[3.68433535e-01 2.62371019e-01 2.62003946e+01 ... 3.23830499e+03\n",
            "  3.15148298e-01 1.44623614e+01]\n",
            " [6.60570848e-01 1.79012554e-01 5.51550462e+01 ... 1.53647244e+04\n",
            "  2.51255317e-01 1.71702745e+01]\n",
            " [3.65191450e-01 1.57712493e-01 3.05770259e+01 ... 3.77179816e+03\n",
            "  3.69366254e-01 1.43948122e+01]\n",
            " ...\n",
            " [3.07562053e-01 1.69252018e-01 4.94737956e+01 ... 4.96797676e+03\n",
            "  2.46028326e-01 1.51067769e+01]\n",
            " [5.77333471e-01 2.59572405e-01 3.85229179e+01 ... 2.34864119e+03\n",
            "  1.61139764e-01 1.47716419e+01]\n",
            " [6.35281625e-01 1.45088086e-01 9.98527053e+01 ... 1.04654714e+04\n",
            "  0.00000000e+00 1.75445559e+01]]\n",
            "['liposarcoma' 'liposarcoma' 'lipoma' 'liposarcoma' 'lipoma' 'lipoma'\n",
            " 'lipoma' 'lipoma' 'liposarcoma' 'lipoma' 'lipoma' 'liposarcoma'\n",
            " 'liposarcoma' 'lipoma' 'liposarcoma' 'liposarcoma' 'lipoma' 'lipoma'\n",
            " 'lipoma' 'liposarcoma' 'lipoma' 'liposarcoma' 'lipoma' 'liposarcoma'\n",
            " 'lipoma' 'liposarcoma' 'liposarcoma' 'liposarcoma' 'lipoma' 'liposarcoma'\n",
            " 'liposarcoma' 'lipoma' 'lipoma' 'lipoma' 'lipoma' 'lipoma' 'lipoma'\n",
            " 'liposarcoma' 'lipoma' 'liposarcoma' 'lipoma' 'liposarcoma' 'liposarcoma'\n",
            " 'liposarcoma' 'liposarcoma' 'liposarcoma' 'lipoma' 'liposarcoma'\n",
            " 'liposarcoma' 'liposarcoma' 'liposarcoma' 'lipoma' 'liposarcoma'\n",
            " 'liposarcoma' 'lipoma' 'lipoma' 'lipoma' 'liposarcoma' 'liposarcoma'\n",
            " 'liposarcoma' 'lipoma' 'lipoma' 'liposarcoma' 'liposarcoma' 'lipoma'\n",
            " 'lipoma' 'lipoma' 'liposarcoma' 'liposarcoma' 'liposarcoma' 'lipoma'\n",
            " 'liposarcoma' 'liposarcoma' 'liposarcoma' 'liposarcoma' 'lipoma' 'lipoma'\n",
            " 'liposarcoma' 'liposarcoma' 'lipoma' 'lipoma' 'lipoma' 'liposarcoma'\n",
            " 'lipoma' 'lipoma' 'liposarcoma' 'liposarcoma' 'liposarcoma' 'liposarcoma'\n",
            " 'lipoma' 'liposarcoma' 'lipoma' 'lipoma' 'lipoma' 'lipoma' 'lipoma'\n",
            " 'lipoma' 'lipoma' 'liposarcoma' 'liposarcoma' 'lipoma' 'lipoma'\n",
            " 'liposarcoma' 'lipoma' 'liposarcoma' 'liposarcoma' 'lipoma' 'liposarcoma'\n",
            " 'lipoma' 'lipoma' 'lipoma' 'liposarcoma' 'liposarcoma' 'lipoma'\n",
            " 'liposarcoma']\n"
          ]
        }
      ]
    },
    {
      "cell_type": "markdown",
      "source": [
        "# **Split and scale the data**"
      ],
      "metadata": {
        "id": "JIfugNhPzDo5"
      }
    },
    {
      "cell_type": "code",
      "source": [
        "# Split data\n",
        "X_train, X_test, y_train, y_test = model_selection.train_test_split(X, y, test_size=0.2, stratify=y)\n",
        "\n",
        "print(len(X_train))\n",
        "print(len(X_test))\n",
        "print(len(y_train))\n",
        "print(len(y_test))\n",
        "\n",
        "# Scale the data to be normal\n",
        "scaler = preprocessing.StandardScaler()\n",
        "scaler.fit(X_train)\n",
        "X_train_scaled = scaler.transform(X_train)\n",
        "X_test_scaled = scaler.transform(X_test)"
      ],
      "metadata": {
        "id": "TmcPnIBdzCG_",
        "outputId": "95bc8a63-38c6-4c85-f15c-6f47411e2523",
        "colab": {
          "base_uri": "https://localhost:8080/"
        }
      },
      "execution_count": 53,
      "outputs": [
        {
          "output_type": "stream",
          "name": "stdout",
          "text": [
            "92\n",
            "23\n",
            "92\n",
            "23\n"
          ]
        }
      ]
    },
    {
      "cell_type": "markdown",
      "source": [
        "### **Check for missing values**\n",
        "\n"
      ],
      "metadata": {
        "id": "6Th7iN-wiDCz"
      }
    },
    {
      "cell_type": "code",
      "source": [
        "missing_values = np.sum(np.isnan(X_train))\n",
        "\n",
        "print(\"Number of missing values:\",missing_values)"
      ],
      "metadata": {
        "id": "xz_YEZ4niOB0",
        "outputId": "daa8fed9-e515-4f3f-fe5e-7c53ebb7961a",
        "colab": {
          "base_uri": "https://localhost:8080/"
        }
      },
      "execution_count": 46,
      "outputs": [
        {
          "output_type": "stream",
          "name": "stdout",
          "text": [
            "Number of missing values: 0\n"
          ]
        }
      ]
    },
    {
      "cell_type": "markdown",
      "source": [
        "# **Crosvalidation**"
      ],
      "metadata": {
        "id": "1AqAls9XifaR"
      }
    },
    {
      "cell_type": "code",
      "source": [
        "# Initialize KFold cross-validator\n",
        "kf = model_selection.StratifiedKFold(n_splits=5)\n",
        "\n",
        "# Iterate over each fold\n",
        "for train_index, val_index in kf.split(X_train, y_train):\n",
        "    # Split data into train and validation sets for this fold\n",
        "    X_train_fold, X_val_fold = X_train_scaled[train_index], X_train_scaled[val_index]\n",
        "    y_train_fold, y_val_fold = y_train[train_index], y_train[val_index]\n",
        "\n",
        "print(len(X_train_fold))\n",
        "print(len(X_val_fold))\n",
        "print(len(y_train_fold))\n",
        "print(len(y_val_fold))"
      ],
      "metadata": {
        "id": "CaWPtHtmimZS",
        "outputId": "0f40cef4-c70e-4227-e512-9326d99c002a",
        "colab": {
          "base_uri": "https://localhost:8080/"
        }
      },
      "execution_count": 56,
      "outputs": [
        {
          "output_type": "stream",
          "name": "stdout",
          "text": [
            "74\n",
            "18\n",
            "74\n",
            "18\n"
          ]
        }
      ]
    }
  ],
  "metadata": {
    "colab": {
      "name": "assignment.ipynb",
      "provenance": []
    },
    "kernelspec": {
      "display_name": "Python 3",
      "language": "python",
      "name": "python3"
    },
    "language_info": {
      "codemirror_mode": {
        "name": "ipython",
        "version": 3
      },
      "file_extension": ".py",
      "mimetype": "text/x-python",
      "name": "python",
      "nbconvert_exporter": "python",
      "pygments_lexer": "ipython3",
      "version": "3.8.5"
    }
  },
  "nbformat": 4,
  "nbformat_minor": 0
}